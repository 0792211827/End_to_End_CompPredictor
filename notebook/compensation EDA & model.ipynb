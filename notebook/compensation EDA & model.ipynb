{
  "cells": [
    {
      "cell_type": "markdown",
      "metadata": {
        "id": "KW6XHJHHtGFU"
      },
      "source": [
        "# Employee compensation prediction\n",
        "## Statement of the problem\n",
        "The goal of this project is to develop a machine learning model that predicts employee compensation based on various employment and compensation factors. The dataset includes employee information such as 'Name', 'Benefits Category', 'Department', 'Job Title', 'Full/Part Time', 'Hire Date', 'Termination Date', 'Hourly Rate', 'Regular Pay', 'Overtime Pay', and 'Other Pay'. By accurately predicting compensation, the model can help organizations optimize payroll management, ensure fair pay practices, and make data-driven decisions related to compensation planning.\n",
        "\n",
        "\n",
        "\n",
        "### Variable definition\n",
        "- Name: Employee’s name.\n",
        "- Benefits Category: Type of benefits the employee is entitled to.\n",
        "- Department: Department where the employee works.\n",
        "- Job Title: Employee’s job position.\n",
        "- Full/Part Time: Employment status as full-time or part-time.\n",
        "- Hire Date: The date the employee was hired.\n",
        "- Termination Date: The date the employee left the organization, if applicable.\n",
        "- Hourly Rate: The employee’s hourly wage.\n",
        "- Regular Pay: The employee’s base salary or pay.\n",
        "- Overtime Pay: Compensation for hours worked beyond regular working hours.\n",
        "- Other Pay: Additional forms of compensation beyond regular and overtime pay.\n",
        "\n",
        "\n",
        "\n",
        "\n",
        "\n",
        "\n",
        "\n",
        "\n",
        "\n",
        "#### Data source\n",
        "The data was obtained from data.world the link to the data is\n",
        " https://data.world/city-of-phoenix/2b41f4f8-fe6f-48d3-8097-ad44ee5bd616/workspace/file?filename=employee-compensation-report-calendar-year-2021-6.csv"
      ]
    },
    {
      "cell_type": "code",
      "execution_count": 3,
      "metadata": {},
      "outputs": [
        {
          "name": "stdout",
          "output_type": "stream",
          "text": [
            "Requirement already satisfied: catboost in /Users/sylviabhoke/Downloads/End to End CompPredictor folder/myvenv/lib/python3.9/site-packages (1.2.7)\n",
            "Requirement already satisfied: graphviz in /Users/sylviabhoke/Downloads/End to End CompPredictor folder/myvenv/lib/python3.9/site-packages (from catboost) (0.20.3)\n",
            "Requirement already satisfied: matplotlib in /Users/sylviabhoke/Downloads/End to End CompPredictor folder/myvenv/lib/python3.9/site-packages (from catboost) (3.9.2)\n",
            "Requirement already satisfied: numpy<2.0,>=1.16.0 in /Users/sylviabhoke/Downloads/End to End CompPredictor folder/myvenv/lib/python3.9/site-packages (from catboost) (1.26.4)\n",
            "Requirement already satisfied: pandas>=0.24 in /Users/sylviabhoke/Downloads/End to End CompPredictor folder/myvenv/lib/python3.9/site-packages (from catboost) (2.2.3)\n",
            "Requirement already satisfied: scipy in /Users/sylviabhoke/Downloads/End to End CompPredictor folder/myvenv/lib/python3.9/site-packages (from catboost) (1.13.1)\n",
            "Requirement already satisfied: plotly in /Users/sylviabhoke/Downloads/End to End CompPredictor folder/myvenv/lib/python3.9/site-packages (from catboost) (5.24.1)\n",
            "Requirement already satisfied: six in /Users/sylviabhoke/Downloads/End to End CompPredictor folder/myvenv/lib/python3.9/site-packages (from catboost) (1.16.0)\n",
            "Requirement already satisfied: python-dateutil>=2.8.2 in /Users/sylviabhoke/Downloads/End to End CompPredictor folder/myvenv/lib/python3.9/site-packages (from pandas>=0.24->catboost) (2.9.0.post0)\n",
            "Requirement already satisfied: pytz>=2020.1 in /Users/sylviabhoke/Downloads/End to End CompPredictor folder/myvenv/lib/python3.9/site-packages (from pandas>=0.24->catboost) (2024.2)\n",
            "Requirement already satisfied: tzdata>=2022.7 in /Users/sylviabhoke/Downloads/End to End CompPredictor folder/myvenv/lib/python3.9/site-packages (from pandas>=0.24->catboost) (2024.2)\n",
            "Requirement already satisfied: contourpy>=1.0.1 in /Users/sylviabhoke/Downloads/End to End CompPredictor folder/myvenv/lib/python3.9/site-packages (from matplotlib->catboost) (1.3.0)\n",
            "Requirement already satisfied: cycler>=0.10 in /Users/sylviabhoke/Downloads/End to End CompPredictor folder/myvenv/lib/python3.9/site-packages (from matplotlib->catboost) (0.12.1)\n",
            "Requirement already satisfied: fonttools>=4.22.0 in /Users/sylviabhoke/Downloads/End to End CompPredictor folder/myvenv/lib/python3.9/site-packages (from matplotlib->catboost) (4.54.1)\n",
            "Requirement already satisfied: kiwisolver>=1.3.1 in /Users/sylviabhoke/Downloads/End to End CompPredictor folder/myvenv/lib/python3.9/site-packages (from matplotlib->catboost) (1.4.7)\n",
            "Requirement already satisfied: packaging>=20.0 in /Users/sylviabhoke/Downloads/End to End CompPredictor folder/myvenv/lib/python3.9/site-packages (from matplotlib->catboost) (24.1)\n",
            "Requirement already satisfied: pillow>=8 in /Users/sylviabhoke/Downloads/End to End CompPredictor folder/myvenv/lib/python3.9/site-packages (from matplotlib->catboost) (11.0.0)\n",
            "Requirement already satisfied: pyparsing>=2.3.1 in /Users/sylviabhoke/Downloads/End to End CompPredictor folder/myvenv/lib/python3.9/site-packages (from matplotlib->catboost) (3.2.0)\n",
            "Requirement already satisfied: importlib-resources>=3.2.0 in /Users/sylviabhoke/Downloads/End to End CompPredictor folder/myvenv/lib/python3.9/site-packages (from matplotlib->catboost) (6.4.5)\n",
            "Requirement already satisfied: tenacity>=6.2.0 in /Users/sylviabhoke/Downloads/End to End CompPredictor folder/myvenv/lib/python3.9/site-packages (from plotly->catboost) (9.0.0)\n",
            "Requirement already satisfied: zipp>=3.1.0 in /Users/sylviabhoke/Downloads/End to End CompPredictor folder/myvenv/lib/python3.9/site-packages (from importlib-resources>=3.2.0->matplotlib->catboost) (3.20.2)\n",
            "Note: you may need to restart the kernel to use updated packages.\n"
          ]
        }
      ],
      "source": [
        "%pip install catboost"
      ]
    },
    {
      "cell_type": "code",
      "execution_count": 4,
      "metadata": {
        "id": "cFrWdNmns6J_"
      },
      "outputs": [],
      "source": [
        "#importing librarires\n",
        "\n",
        "import pandas as pd\n",
        "import numpy as np\n",
        "import matplotlib.pyplot as plt\n",
        "import seaborn as sns\n",
        "sns.set_style('darkgrid')\n",
        "import warnings\n",
        "warnings.filterwarnings('ignore')\n"
      ]
    },
    {
      "cell_type": "code",
      "execution_count": 5,
      "metadata": {
        "id": "SxdPrb2Svg8r"
      },
      "outputs": [],
      "source": [
        "data = pd.read_csv('/Users/sylviabhoke/Downloads/End to End CompPredictor folder/notebook/data/employee-compensation-report-calendar-year-2021-6.csv')\n",
        "\n"
      ]
    },
    {
      "cell_type": "code",
      "execution_count": 6,
      "metadata": {
        "colab": {
          "base_uri": "https://localhost:8080/",
          "height": 276
        },
        "id": "JyUvcYtyvwsj",
        "outputId": "4e5ae0cb-c3b5-42ee-dfe7-e44a574ab85f"
      },
      "outputs": [
        {
          "data": {
            "text/html": [
              "<div>\n",
              "<style scoped>\n",
              "    .dataframe tbody tr th:only-of-type {\n",
              "        vertical-align: middle;\n",
              "    }\n",
              "\n",
              "    .dataframe tbody tr th {\n",
              "        vertical-align: top;\n",
              "    }\n",
              "\n",
              "    .dataframe thead th {\n",
              "        text-align: right;\n",
              "    }\n",
              "</style>\n",
              "<table border=\"1\" class=\"dataframe\">\n",
              "  <thead>\n",
              "    <tr style=\"text-align: right;\">\n",
              "      <th></th>\n",
              "      <th>Name</th>\n",
              "      <th>Benefits Category</th>\n",
              "      <th>Department</th>\n",
              "      <th>Job Title</th>\n",
              "      <th>Full/Part Time</th>\n",
              "      <th>Hire Date</th>\n",
              "      <th>Termination Date</th>\n",
              "      <th>Hourly Rate</th>\n",
              "      <th>Regular Pay</th>\n",
              "      <th>Overtime Pay</th>\n",
              "      <th>Other Pay</th>\n",
              "      <th>Unnamed: 11</th>\n",
              "    </tr>\n",
              "  </thead>\n",
              "  <tbody>\n",
              "    <tr>\n",
              "      <th>0</th>\n",
              "      <td>Aamodt,Gail L</td>\n",
              "      <td>4.0</td>\n",
              "      <td>Police Department</td>\n",
              "      <td>Police Officer</td>\n",
              "      <td>F</td>\n",
              "      <td>7/15/1991</td>\n",
              "      <td>NaN</td>\n",
              "      <td>37.79</td>\n",
              "      <td>71560.00</td>\n",
              "      <td>0.00</td>\n",
              "      <td>5238.09</td>\n",
              "      <td>NaN</td>\n",
              "    </tr>\n",
              "    <tr>\n",
              "      <th>1</th>\n",
              "      <td>Abbitt,Nathan</td>\n",
              "      <td>4.0</td>\n",
              "      <td>Police Department</td>\n",
              "      <td>Police Officer</td>\n",
              "      <td>F</td>\n",
              "      <td>12/17/2018</td>\n",
              "      <td>NaN</td>\n",
              "      <td>30.04</td>\n",
              "      <td>58472.80</td>\n",
              "      <td>2480.96</td>\n",
              "      <td>1490.57</td>\n",
              "      <td>NaN</td>\n",
              "    </tr>\n",
              "    <tr>\n",
              "      <th>2</th>\n",
              "      <td>Abbitt,Ryan J</td>\n",
              "      <td>5.0</td>\n",
              "      <td>Fire Department</td>\n",
              "      <td>Firefighter 56hr</td>\n",
              "      <td>F</td>\n",
              "      <td>1/14/2008</td>\n",
              "      <td>NaN</td>\n",
              "      <td>24.48</td>\n",
              "      <td>65584.91</td>\n",
              "      <td>18186.03</td>\n",
              "      <td>1329.91</td>\n",
              "      <td>NaN</td>\n",
              "    </tr>\n",
              "    <tr>\n",
              "      <th>3</th>\n",
              "      <td>Abbott,Christie MIchelle</td>\n",
              "      <td>7.0</td>\n",
              "      <td>Police Department</td>\n",
              "      <td>Forensic Scientist IV</td>\n",
              "      <td>F</td>\n",
              "      <td>12/28/2009</td>\n",
              "      <td>NaN</td>\n",
              "      <td>51.02</td>\n",
              "      <td>104979.20</td>\n",
              "      <td>0.00</td>\n",
              "      <td>1175.32</td>\n",
              "      <td>NaN</td>\n",
              "    </tr>\n",
              "    <tr>\n",
              "      <th>4</th>\n",
              "      <td>Abbott,Wendy</td>\n",
              "      <td>998.0</td>\n",
              "      <td>Parks &amp; Recreation: Aquatics</td>\n",
              "      <td>Parks &amp; Recreation Aide*Cash</td>\n",
              "      <td>P</td>\n",
              "      <td>4/19/2010</td>\n",
              "      <td>NaN</td>\n",
              "      <td>12.92</td>\n",
              "      <td>5131.92</td>\n",
              "      <td>259.68</td>\n",
              "      <td>75.00</td>\n",
              "      <td>NaN</td>\n",
              "    </tr>\n",
              "  </tbody>\n",
              "</table>\n",
              "</div>"
            ],
            "text/plain": [
              "                       Name  Benefits Category                    Department  \\\n",
              "0             Aamodt,Gail L                4.0             Police Department   \n",
              "1             Abbitt,Nathan                4.0             Police Department   \n",
              "2             Abbitt,Ryan J                5.0               Fire Department   \n",
              "3  Abbott,Christie MIchelle                7.0             Police Department   \n",
              "4              Abbott,Wendy              998.0  Parks & Recreation: Aquatics   \n",
              "\n",
              "                      Job Title Full/Part Time   Hire Date Termination Date  \\\n",
              "0                Police Officer              F   7/15/1991              NaN   \n",
              "1                Police Officer              F  12/17/2018              NaN   \n",
              "2              Firefighter 56hr              F   1/14/2008              NaN   \n",
              "3         Forensic Scientist IV              F  12/28/2009              NaN   \n",
              "4  Parks & Recreation Aide*Cash              P   4/19/2010              NaN   \n",
              "\n",
              "   Hourly Rate  Regular Pay  Overtime Pay  Other Pay  Unnamed: 11  \n",
              "0        37.79     71560.00          0.00    5238.09          NaN  \n",
              "1        30.04     58472.80       2480.96    1490.57          NaN  \n",
              "2        24.48     65584.91      18186.03    1329.91          NaN  \n",
              "3        51.02    104979.20          0.00    1175.32          NaN  \n",
              "4        12.92      5131.92        259.68      75.00          NaN  "
            ]
          },
          "execution_count": 6,
          "metadata": {},
          "output_type": "execute_result"
        }
      ],
      "source": [
        "data.head()"
      ]
    },
    {
      "cell_type": "markdown",
      "metadata": {
        "id": "dyNrAP3zYURe"
      },
      "source": [
        "### Data Cleaning\n",
        "- Handling Missing values\n",
        "- Handling Duplicates\n",
        "- Check data type\n",
        "- Understand the dataset"
      ]
    },
    {
      "cell_type": "code",
      "execution_count": 7,
      "metadata": {
        "colab": {
          "base_uri": "https://localhost:8080/"
        },
        "id": "Jlbm2NWXv1uD",
        "outputId": "91c156bf-f632-444b-8069-141e762b4518"
      },
      "outputs": [
        {
          "data": {
            "text/plain": [
              "(15083, 12)"
            ]
          },
          "execution_count": 7,
          "metadata": {},
          "output_type": "execute_result"
        }
      ],
      "source": [
        "data.shape"
      ]
    },
    {
      "cell_type": "code",
      "execution_count": 8,
      "metadata": {
        "colab": {
          "base_uri": "https://localhost:8080/"
        },
        "id": "cOrqf6t5v_qL",
        "outputId": "03f5029d-8e00-4545-acf7-e5f77fab8503"
      },
      "outputs": [
        {
          "data": {
            "text/plain": [
              "Index(['Name', 'Benefits Category', 'Department', 'Job Title',\n",
              "       'Full/Part Time', 'Hire Date', 'Termination Date', 'Hourly Rate',\n",
              "       'Regular Pay', 'Overtime Pay', 'Other Pay', 'Unnamed: 11'],\n",
              "      dtype='object')"
            ]
          },
          "execution_count": 8,
          "metadata": {},
          "output_type": "execute_result"
        }
      ],
      "source": [
        "data.columns"
      ]
    },
    {
      "cell_type": "code",
      "execution_count": 9,
      "metadata": {
        "colab": {
          "base_uri": "https://localhost:8080/"
        },
        "id": "rWNFXSjywCIl",
        "outputId": "b1716760-4bae-4764-cc98-0d82513fe15a"
      },
      "outputs": [
        {
          "name": "stdout",
          "output_type": "stream",
          "text": [
            "<class 'pandas.core.frame.DataFrame'>\n",
            "RangeIndex: 15083 entries, 0 to 15082\n",
            "Data columns (total 12 columns):\n",
            " #   Column             Non-Null Count  Dtype  \n",
            "---  ------             --------------  -----  \n",
            " 0   Name               15082 non-null  object \n",
            " 1   Benefits Category  15082 non-null  float64\n",
            " 2   Department         15082 non-null  object \n",
            " 3   Job Title          15082 non-null  object \n",
            " 4   Full/Part Time     15082 non-null  object \n",
            " 5   Hire Date          15082 non-null  object \n",
            " 6   Termination Date   1225 non-null   object \n",
            " 7   Hourly Rate        15082 non-null  float64\n",
            " 8   Regular Pay        15082 non-null  float64\n",
            " 9   Overtime Pay       15082 non-null  float64\n",
            " 10  Other Pay          15082 non-null  float64\n",
            " 11  Unnamed: 11        0 non-null      float64\n",
            "dtypes: float64(6), object(6)\n",
            "memory usage: 1.4+ MB\n"
          ]
        }
      ],
      "source": [
        "data.info()"
      ]
    },
    {
      "cell_type": "code",
      "execution_count": 10,
      "metadata": {
        "colab": {
          "base_uri": "https://localhost:8080/",
          "height": 238
        },
        "id": "_Ed6BX9jwvwZ",
        "outputId": "c3520893-d1a9-4e6d-ff72-ee6836d26cc8"
      },
      "outputs": [
        {
          "data": {
            "text/html": [
              "<div>\n",
              "<style scoped>\n",
              "    .dataframe tbody tr th:only-of-type {\n",
              "        vertical-align: middle;\n",
              "    }\n",
              "\n",
              "    .dataframe tbody tr th {\n",
              "        vertical-align: top;\n",
              "    }\n",
              "\n",
              "    .dataframe thead th {\n",
              "        text-align: right;\n",
              "    }\n",
              "</style>\n",
              "<table border=\"1\" class=\"dataframe\">\n",
              "  <thead>\n",
              "    <tr style=\"text-align: right;\">\n",
              "      <th></th>\n",
              "      <th>count</th>\n",
              "      <th>mean</th>\n",
              "      <th>std</th>\n",
              "      <th>min</th>\n",
              "      <th>25%</th>\n",
              "      <th>50%</th>\n",
              "      <th>75%</th>\n",
              "      <th>max</th>\n",
              "    </tr>\n",
              "  </thead>\n",
              "  <tbody>\n",
              "    <tr>\n",
              "      <th>Benefits Category</th>\n",
              "      <td>15082.0</td>\n",
              "      <td>100.276157</td>\n",
              "      <td>293.146069</td>\n",
              "      <td>1.00</td>\n",
              "      <td>3.0000</td>\n",
              "      <td>5.000</td>\n",
              "      <td>7.000</td>\n",
              "      <td>999.00</td>\n",
              "    </tr>\n",
              "    <tr>\n",
              "      <th>Hourly Rate</th>\n",
              "      <td>15082.0</td>\n",
              "      <td>30.774489</td>\n",
              "      <td>11.896322</td>\n",
              "      <td>12.72</td>\n",
              "      <td>22.5100</td>\n",
              "      <td>28.410</td>\n",
              "      <td>37.790</td>\n",
              "      <td>177.89</td>\n",
              "    </tr>\n",
              "    <tr>\n",
              "      <th>Regular Pay</th>\n",
              "      <td>15082.0</td>\n",
              "      <td>57707.117620</td>\n",
              "      <td>30373.101982</td>\n",
              "      <td>0.00</td>\n",
              "      <td>39255.4000</td>\n",
              "      <td>58145.600</td>\n",
              "      <td>77606.400</td>\n",
              "      <td>273372.48</td>\n",
              "    </tr>\n",
              "    <tr>\n",
              "      <th>Overtime Pay</th>\n",
              "      <td>15082.0</td>\n",
              "      <td>5541.316220</td>\n",
              "      <td>12752.758368</td>\n",
              "      <td>-485.64</td>\n",
              "      <td>0.0000</td>\n",
              "      <td>513.120</td>\n",
              "      <td>4993.925</td>\n",
              "      <td>217212.59</td>\n",
              "    </tr>\n",
              "    <tr>\n",
              "      <th>Other Pay</th>\n",
              "      <td>15082.0</td>\n",
              "      <td>4182.628811</td>\n",
              "      <td>9273.389135</td>\n",
              "      <td>-1200.00</td>\n",
              "      <td>107.8125</td>\n",
              "      <td>2191.755</td>\n",
              "      <td>4975.000</td>\n",
              "      <td>261035.69</td>\n",
              "    </tr>\n",
              "    <tr>\n",
              "      <th>Unnamed: 11</th>\n",
              "      <td>0.0</td>\n",
              "      <td>NaN</td>\n",
              "      <td>NaN</td>\n",
              "      <td>NaN</td>\n",
              "      <td>NaN</td>\n",
              "      <td>NaN</td>\n",
              "      <td>NaN</td>\n",
              "      <td>NaN</td>\n",
              "    </tr>\n",
              "  </tbody>\n",
              "</table>\n",
              "</div>"
            ],
            "text/plain": [
              "                     count          mean           std      min         25%  \\\n",
              "Benefits Category  15082.0    100.276157    293.146069     1.00      3.0000   \n",
              "Hourly Rate        15082.0     30.774489     11.896322    12.72     22.5100   \n",
              "Regular Pay        15082.0  57707.117620  30373.101982     0.00  39255.4000   \n",
              "Overtime Pay       15082.0   5541.316220  12752.758368  -485.64      0.0000   \n",
              "Other Pay          15082.0   4182.628811   9273.389135 -1200.00    107.8125   \n",
              "Unnamed: 11            0.0           NaN           NaN      NaN         NaN   \n",
              "\n",
              "                         50%        75%        max  \n",
              "Benefits Category      5.000      7.000     999.00  \n",
              "Hourly Rate           28.410     37.790     177.89  \n",
              "Regular Pay        58145.600  77606.400  273372.48  \n",
              "Overtime Pay         513.120   4993.925  217212.59  \n",
              "Other Pay           2191.755   4975.000  261035.69  \n",
              "Unnamed: 11              NaN        NaN        NaN  "
            ]
          },
          "execution_count": 10,
          "metadata": {},
          "output_type": "execute_result"
        }
      ],
      "source": [
        "data.describe().T"
      ]
    },
    {
      "cell_type": "code",
      "execution_count": 11,
      "metadata": {
        "colab": {
          "base_uri": "https://localhost:8080/",
          "height": 238
        },
        "id": "Vsw18Fcsw0X7",
        "outputId": "c3afe63f-794b-4298-f448-6eee13e524d2"
      },
      "outputs": [
        {
          "data": {
            "text/html": [
              "<div>\n",
              "<style scoped>\n",
              "    .dataframe tbody tr th:only-of-type {\n",
              "        vertical-align: middle;\n",
              "    }\n",
              "\n",
              "    .dataframe tbody tr th {\n",
              "        vertical-align: top;\n",
              "    }\n",
              "\n",
              "    .dataframe thead th {\n",
              "        text-align: right;\n",
              "    }\n",
              "</style>\n",
              "<table border=\"1\" class=\"dataframe\">\n",
              "  <thead>\n",
              "    <tr style=\"text-align: right;\">\n",
              "      <th></th>\n",
              "      <th>count</th>\n",
              "      <th>unique</th>\n",
              "      <th>top</th>\n",
              "      <th>freq</th>\n",
              "    </tr>\n",
              "  </thead>\n",
              "  <tbody>\n",
              "    <tr>\n",
              "      <th>Name</th>\n",
              "      <td>15082</td>\n",
              "      <td>15060</td>\n",
              "      <td>Jimenez,Melissa</td>\n",
              "      <td>2</td>\n",
              "    </tr>\n",
              "    <tr>\n",
              "      <th>Department</th>\n",
              "      <td>15082</td>\n",
              "      <td>35</td>\n",
              "      <td>Police Department</td>\n",
              "      <td>4205</td>\n",
              "    </tr>\n",
              "    <tr>\n",
              "      <th>Job Title</th>\n",
              "      <td>15082</td>\n",
              "      <td>764</td>\n",
              "      <td>Police Officer</td>\n",
              "      <td>2459</td>\n",
              "    </tr>\n",
              "    <tr>\n",
              "      <th>Full/Part Time</th>\n",
              "      <td>15082</td>\n",
              "      <td>2</td>\n",
              "      <td>F</td>\n",
              "      <td>13638</td>\n",
              "    </tr>\n",
              "    <tr>\n",
              "      <th>Hire Date</th>\n",
              "      <td>15082</td>\n",
              "      <td>1323</td>\n",
              "      <td>4/19/2021</td>\n",
              "      <td>155</td>\n",
              "    </tr>\n",
              "    <tr>\n",
              "      <th>Termination Date</th>\n",
              "      <td>1225</td>\n",
              "      <td>307</td>\n",
              "      <td>10/15/2021</td>\n",
              "      <td>33</td>\n",
              "    </tr>\n",
              "  </tbody>\n",
              "</table>\n",
              "</div>"
            ],
            "text/plain": [
              "                  count unique                top   freq\n",
              "Name              15082  15060    Jimenez,Melissa      2\n",
              "Department        15082     35  Police Department   4205\n",
              "Job Title         15082    764     Police Officer   2459\n",
              "Full/Part Time    15082      2                  F  13638\n",
              "Hire Date         15082   1323          4/19/2021    155\n",
              "Termination Date   1225    307         10/15/2021     33"
            ]
          },
          "execution_count": 11,
          "metadata": {},
          "output_type": "execute_result"
        }
      ],
      "source": [
        "data.describe(include='object').T"
      ]
    },
    {
      "cell_type": "code",
      "execution_count": 12,
      "metadata": {
        "colab": {
          "base_uri": "https://localhost:8080/",
          "height": 460
        },
        "id": "s8BchRmFwZHz",
        "outputId": "46c8eaa7-3269-4398-a204-456d94fc5c9a"
      },
      "outputs": [
        {
          "data": {
            "text/plain": [
              "Name                     1\n",
              "Benefits Category        1\n",
              "Department               1\n",
              "Job Title                1\n",
              "Full/Part Time           1\n",
              "Hire Date                1\n",
              "Termination Date     13858\n",
              "Hourly Rate              1\n",
              "Regular Pay              1\n",
              "Overtime Pay             1\n",
              "Other Pay                1\n",
              "Unnamed: 11          15083\n",
              "dtype: int64"
            ]
          },
          "execution_count": 12,
          "metadata": {},
          "output_type": "execute_result"
        }
      ],
      "source": [
        "data.isnull().sum()"
      ]
    },
    {
      "cell_type": "code",
      "execution_count": 13,
      "metadata": {
        "id": "FkBXcdO8CppZ"
      },
      "outputs": [],
      "source": [
        "# dropping the Unnamed column cause it has no values\n",
        "data.drop('Unnamed: 11', axis=1, inplace=True)"
      ]
    },
    {
      "cell_type": "code",
      "execution_count": 14,
      "metadata": {
        "id": "kyzQlxU6RWMh"
      },
      "outputs": [],
      "source": [
        "#dropping the Termination Date as it has alot of missing values\n",
        "data = data.drop('Termination Date',axis=1)"
      ]
    },
    {
      "cell_type": "code",
      "execution_count": 15,
      "metadata": {
        "id": "x1f1QRvaZ3eB"
      },
      "outputs": [],
      "source": [
        "data = data.drop('Name',axis=1)"
      ]
    },
    {
      "cell_type": "code",
      "execution_count": 16,
      "metadata": {
        "id": "QOXYmulTS54i"
      },
      "outputs": [],
      "source": [
        "#dropping missing values\n",
        "data = data.dropna()"
      ]
    },
    {
      "cell_type": "code",
      "execution_count": 17,
      "metadata": {
        "colab": {
          "base_uri": "https://localhost:8080/"
        },
        "id": "mLzlVLo0wg9j",
        "outputId": "80656eb4-7c15-4dfa-bec8-2bc3bfe54808"
      },
      "outputs": [
        {
          "data": {
            "text/plain": [
              "103"
            ]
          },
          "execution_count": 17,
          "metadata": {},
          "output_type": "execute_result"
        }
      ],
      "source": [
        "data.duplicated().sum()\n"
      ]
    },
    {
      "cell_type": "code",
      "execution_count": 18,
      "metadata": {
        "colab": {
          "base_uri": "https://localhost:8080/",
          "height": 366
        },
        "id": "3npxHJqNw96t",
        "outputId": "fe26ea2a-92e6-4831-84e1-3ef4da17eb5d"
      },
      "outputs": [
        {
          "data": {
            "text/plain": [
              "Benefits Category       18\n",
              "Department              35\n",
              "Job Title              764\n",
              "Full/Part Time           2\n",
              "Hire Date             1323\n",
              "Hourly Rate            622\n",
              "Regular Pay           9682\n",
              "Overtime Pay          8558\n",
              "Other Pay            10066\n",
              "dtype: int64"
            ]
          },
          "execution_count": 18,
          "metadata": {},
          "output_type": "execute_result"
        }
      ],
      "source": [
        "data.apply(lambda x: len(x.unique()))"
      ]
    },
    {
      "cell_type": "markdown",
      "metadata": {
        "id": "l4YjrId0ESGM"
      },
      "source": [
        "## EXPLORATORY DATA ANALYSIS\n",
        "We are going to dive deep into the data by going through the variables one by one"
      ]
    },
    {
      "cell_type": "code",
      "execution_count": 19,
      "metadata": {
        "colab": {
          "base_uri": "https://localhost:8080/"
        },
        "id": "i422yDtIXxD8",
        "outputId": "a81ffddf-bbc3-4bb9-f6db-b9c4a280495c"
      },
      "outputs": [
        {
          "name": "stdout",
          "output_type": "stream",
          "text": [
            "Numerical Features: ['Benefits Category', 'Hourly Rate', 'Regular Pay', 'Overtime Pay', 'Other Pay']\n",
            "Categorical Features: ['Department', 'Job Title', 'Full/Part Time', 'Hire Date']\n",
            "Discrete Features: ['Benefits Category']\n",
            "Continuous Features: ['Hourly Rate', 'Regular Pay', 'Overtime Pay', 'Other Pay']\n"
          ]
        }
      ],
      "source": [
        "# Getting all different types of features\n",
        "num_features = [feature for feature in data.columns if data[feature].dtype != 'O']\n",
        "print(f'Numerical Features:', num_features)\n",
        "\n",
        "cat_features = [feature for feature in data.columns if data[feature].dtype == 'O']\n",
        "print(f'Categorical Features:', cat_features)\n",
        "\n",
        "discrete_features = [feature for feature in num_features if len(data[feature].unique()) <= 25]\n",
        "print(f'Discrete Features:', discrete_features)\n",
        "\n",
        "continuous_features = [feature for feature in num_features if feature not in discrete_features]\n",
        "print(f'Continuous Features:', continuous_features)\n"
      ]
    },
    {
      "cell_type": "markdown",
      "metadata": {
        "id": "KaoxQWY9Ex-k"
      },
      "source": [
        "## Numerical columns"
      ]
    },
    {
      "cell_type": "code",
      "execution_count": 20,
      "metadata": {
        "colab": {
          "base_uri": "https://localhost:8080/"
        },
        "id": "-j19wnj5EUjJ",
        "outputId": "db309f9d-5540-44d8-abbd-fefdbf1e60de"
      },
      "outputs": [
        {
          "data": {
            "text/plain": [
              "Index(['Benefits Category', 'Hourly Rate', 'Regular Pay', 'Overtime Pay',\n",
              "       'Other Pay'],\n",
              "      dtype='object')"
            ]
          },
          "execution_count": 20,
          "metadata": {},
          "output_type": "execute_result"
        }
      ],
      "source": [
        "Numerical_columns = data.select_dtypes(include=np.number).columns\n",
        "Numerical_columns"
      ]
    },
    {
      "cell_type": "markdown",
      "metadata": {
        "id": "Ccs3sP-aL8An"
      },
      "source": [
        "#### **Benefits Category**"
      ]
    },
    {
      "cell_type": "code",
      "execution_count": 21,
      "metadata": {
        "colab": {
          "base_uri": "https://localhost:8080/",
          "height": 680
        },
        "id": "OSh3kgm0MBJ-",
        "outputId": "c30e9d90-2e65-40f2-de6d-7a970353f15f"
      },
      "outputs": [
        {
          "data": {
            "text/plain": [
              "Benefits Category\n",
              "7.0      3579\n",
              "4.0      2524\n",
              "3.0      2273\n",
              "5.0      1689\n",
              "2.0      1581\n",
              "999.0    1033\n",
              "1.0       950\n",
              "6.0       473\n",
              "998.0     418\n",
              "9.0       271\n",
              "10.0       92\n",
              "8.0        88\n",
              "17.0       60\n",
              "16.0       24\n",
              "11.0       11\n",
              "18.0        7\n",
              "19.0        7\n",
              "12.0        2\n",
              "Name: count, dtype: int64"
            ]
          },
          "execution_count": 21,
          "metadata": {},
          "output_type": "execute_result"
        }
      ],
      "source": [
        "data['Benefits Category'].value_counts()"
      ]
    },
    {
      "cell_type": "code",
      "execution_count": 22,
      "metadata": {
        "colab": {
          "base_uri": "https://localhost:8080/",
          "height": 447
        },
        "id": "L3f5uct4Y3RZ",
        "outputId": "583166d7-3bf5-4320-d951-80c9188eef25"
      },
      "outputs": [
        {
          "data": {
            "image/png": "[encoded data removed]",
            "text/plain": [
              "<Figure size 1000x600 with 1 Axes>"
            ]
          },
          "metadata": {},
          "output_type": "display_data"
        }
      ],
      "source": [
        "# Convert the 'Benefits Category' column to a categorical type\n",
        "data['Benefits Category'] = data['Benefits Category'].astype('category')\n",
        "plt.figure(figsize=(10,6))\n",
        "sns.barplot(x=data['Benefits Category'].value_counts().index, \n",
        "            y=data['Benefits Category'].value_counts().values)\n",
        "\n",
        "plt.title('Counts of Benefits Category')\n",
        "plt.xlabel('Benefits Category')\n",
        "plt.ylabel('Count')\n",
        "plt.xticks(rotation=45)\n",
        "plt.show()\n"
      ]
    },
    {
      "cell_type": "markdown",
      "metadata": {
        "id": "1N-eb3RW5dRY"
      },
      "source": [
        "#### **Hourly Rate**"
      ]
    },
    {
      "cell_type": "code",
      "execution_count": 23,
      "metadata": {
        "colab": {
          "base_uri": "https://localhost:8080/",
          "height": 490
        },
        "id": "GHZrSeBxTRYQ",
        "outputId": "fcf1824c-dba7-46c1-bf08-74a13298de52"
      },
      "outputs": [
        {
          "data": {
            "text/plain": [
              "Hourly Rate\n",
              "37.79    1520\n",
              "15.55     459\n",
              "41.78     270\n",
              "28.41     252\n",
              "33.55     252\n",
              "         ... \n",
              "27.40       1\n",
              "19.47       1\n",
              "46.45       1\n",
              "62.08       1\n",
              "28.36       1\n",
              "Name: count, Length: 622, dtype: int64"
            ]
          },
          "execution_count": 23,
          "metadata": {},
          "output_type": "execute_result"
        }
      ],
      "source": [
        "data['Hourly Rate'].value_counts()"
      ]
    },
    {
      "cell_type": "code",
      "execution_count": 24,
      "metadata": {
        "colab": {
          "base_uri": "https://localhost:8080/",
          "height": 523
        },
        "id": "vF8NvHvx5kdR",
        "outputId": "016a29eb-7857-4a25-9ee0-1fd4f36e34c5"
      },
      "outputs": [
        {
          "data": {
            "text/plain": [
              "<seaborn.axisgrid.FacetGrid at 0x7fb69520eb20>"
            ]
          },
          "execution_count": 24,
          "metadata": {},
          "output_type": "execute_result"
        },
        {
          "data": {
            "image/png": "[encoded data removed]",
            "text/plain": [
              "<Figure size 500x500 with 1 Axes>"
            ]
          },
          "metadata": {},
          "output_type": "display_data"
        }
      ],
      "source": [
        "####visual representation of the column\n",
        "sns.displot(data['Hourly Rate'],kde=True,palette='pastel')"
      ]
    },
    {
      "cell_type": "markdown",
      "metadata": {
        "id": "hnx7rWJk7azQ"
      },
      "source": [
        "The data appears to be normally distributed."
      ]
    },
    {
      "cell_type": "code",
      "execution_count": 25,
      "metadata": {
        "colab": {
          "base_uri": "https://localhost:8080/",
          "height": 423
        },
        "id": "RXLTNAm15-NK",
        "outputId": "bd625582-2be6-46af-c3ba-6734f67cc830"
      },
      "outputs": [
        {
          "data": {
            "text/plain": [
              "<Axes: ylabel='Hourly Rate'>"
            ]
          },
          "execution_count": 25,
          "metadata": {},
          "output_type": "execute_result"
        },
        {
          "data": {
            "image/png": "[encoded data removed]",
            "text/plain": [
              "<Figure size 640x480 with 1 Axes>"
            ]
          },
          "metadata": {},
          "output_type": "display_data"
        }
      ],
      "source": [
        "### Checking for ouliers\n",
        "sns.boxplot(data['Hourly Rate'])"
      ]
    },
    {
      "cell_type": "code",
      "execution_count": 26,
      "metadata": {
        "colab": {
          "base_uri": "https://localhost:8080/",
          "height": 423
        },
        "id": "ss2YlWd58Eb_",
        "outputId": "7dfcaf4d-e6ea-49e3-9a7f-fb1108494076"
      },
      "outputs": [
        {
          "data": {
            "text/plain": [
              "<Axes: ylabel='Hourly Rate'>"
            ]
          },
          "execution_count": 26,
          "metadata": {},
          "output_type": "execute_result"
        },
        {
          "data": {
            "image/png": "[encoded data removed]",
            "text/plain": [
              "<Figure size 640x480 with 1 Axes>"
            ]
          },
          "metadata": {},
          "output_type": "display_data"
        }
      ],
      "source": [
        "##correcting the ouliers\n",
        "\n",
        "\n",
        "Q1 = data['Hourly Rate'].quantile(0.25)\n",
        "Q3 = data['Hourly Rate'].quantile(0.75)\n",
        "\n",
        "IQR = Q3 - Q1\n",
        "\n",
        "lower_bound = Q1 - 1.5 * IQR\n",
        "upper_bound = Q3 + 1.5 * IQR\n",
        "\n",
        "# Capping the outliers\n",
        "data['Hourly Rate'] = np.where(data['Hourly Rate'] < lower_bound, lower_bound, data['Hourly Rate'])\n",
        "data['Hourly Rate'] = np.where(data['Hourly Rate'] > upper_bound, upper_bound, data['Hourly Rate'])\n",
        "\n",
        "# Visualize again to check\n",
        "sns.boxplot(data['Hourly Rate'])\n",
        "\n"
      ]
    },
    {
      "cell_type": "markdown",
      "metadata": {
        "id": "iTc8UQgb9UiG"
      },
      "source": [
        "#### **Regular Pay**"
      ]
    },
    {
      "cell_type": "code",
      "execution_count": 27,
      "metadata": {
        "colab": {
          "base_uri": "https://localhost:8080/",
          "height": 490
        },
        "id": "yHf62m3e81jO",
        "outputId": "c871ef19-d2d4-48c5-e8c8-e15625925c51"
      },
      "outputs": [
        {
          "data": {
            "text/plain": [
              "Regular Pay\n",
              "77606.40     1225\n",
              "85972.80      193\n",
              "110785.60     155\n",
              "95086.40      153\n",
              "104979.20     127\n",
              "             ... \n",
              "38448.01        1\n",
              "63605.44        1\n",
              "26129.83        1\n",
              "50156.48        1\n",
              "70553.60        1\n",
              "Name: count, Length: 9682, dtype: int64"
            ]
          },
          "execution_count": 27,
          "metadata": {},
          "output_type": "execute_result"
        }
      ],
      "source": [
        "data['Regular Pay'].value_counts()"
      ]
    },
    {
      "cell_type": "code",
      "execution_count": 28,
      "metadata": {
        "colab": {
          "base_uri": "https://localhost:8080/",
          "height": 523
        },
        "id": "B88CUhjE9OvS",
        "outputId": "769e2e93-6c10-4c49-86fa-1d5615805b1b"
      },
      "outputs": [
        {
          "data": {
            "text/plain": [
              "<seaborn.axisgrid.FacetGrid at 0x7fb690f5ccd0>"
            ]
          },
          "execution_count": 28,
          "metadata": {},
          "output_type": "execute_result"
        },
        {
          "data": {
            "image/png": "[encoded data removed]",
            "text/plain": [
              "<Figure size 500x500 with 1 Axes>"
            ]
          },
          "metadata": {},
          "output_type": "display_data"
        }
      ],
      "source": [
        "#visual representation of the column\n",
        "sns.displot(data['Regular Pay'],kde=True,palette='pastel')"
      ]
    },
    {
      "cell_type": "markdown",
      "metadata": {
        "id": "RwJ3oJkH-wBg"
      },
      "source": [
        "The data is also normally distributed."
      ]
    },
    {
      "cell_type": "code",
      "execution_count": 29,
      "metadata": {
        "colab": {
          "base_uri": "https://localhost:8080/",
          "height": 423
        },
        "id": "iw_DD_yI-MKH",
        "outputId": "3a802156-1300-4428-8e3b-ca4a8b5ff520"
      },
      "outputs": [
        {
          "data": {
            "text/plain": [
              "<Axes: ylabel='Regular Pay'>"
            ]
          },
          "execution_count": 29,
          "metadata": {},
          "output_type": "execute_result"
        },
        {
          "data": {
            "image/png": "[encoded data removed]",
            "text/plain": [
              "<Figure size 640x480 with 1 Axes>"
            ]
          },
          "metadata": {},
          "output_type": "display_data"
        }
      ],
      "source": [
        "#checking for outliers\n",
        "sns.boxplot(data['Regular Pay'])"
      ]
    },
    {
      "cell_type": "code",
      "execution_count": 30,
      "metadata": {
        "colab": {
          "base_uri": "https://localhost:8080/",
          "height": 424
        },
        "id": "5AvjeHqb-b3a",
        "outputId": "3c2c066e-c63b-40c7-d2d9-3957cb63b592"
      },
      "outputs": [
        {
          "data": {
            "text/plain": [
              "<Axes: ylabel='Regular Pay'>"
            ]
          },
          "execution_count": 30,
          "metadata": {},
          "output_type": "execute_result"
        },
        {
          "data": {
            "image/png": "[encoded data removed]",
            "text/plain": [
              "<Figure size 640x480 with 1 Axes>"
            ]
          },
          "metadata": {},
          "output_type": "display_data"
        }
      ],
      "source": [
        "##Handling the outliers\n",
        "Q1 = data['Regular Pay'].quantile(0.25)\n",
        "Q3 = data['Regular Pay'].quantile(0.75)\n",
        "\n",
        "IQR = Q3 - Q1\n",
        "\n",
        "lower_bound = Q1 - 1.5 * IQR\n",
        "upper_bound = Q3 + 1.5 * IQR\n",
        "\n",
        "# Capping the outliers\n",
        "data['Regular Pay'] = np.where(data['Regular Pay'] < lower_bound, lower_bound, data['Regular Pay'])\n",
        "data['Regular Pay'] = np.where(data['Regular Pay'] > upper_bound, upper_bound, data['Regular Pay'])\n",
        "\n",
        "# Visualize again to check\n",
        "sns.boxplot(data['Regular Pay'])"
      ]
    },
    {
      "cell_type": "markdown",
      "metadata": {
        "id": "1zKgJ1qQCOWb"
      },
      "source": [
        "#### **Overtime Pay**"
      ]
    },
    {
      "cell_type": "code",
      "execution_count": 31,
      "metadata": {
        "colab": {
          "base_uri": "https://localhost:8080/",
          "height": 490
        },
        "id": "YLP1OolHAeTD",
        "outputId": "d3fe2ee9-1649-406c-a334-873874534320"
      },
      "outputs": [
        {
          "data": {
            "text/plain": [
              "Overtime Pay\n",
              "0.00        5966\n",
              "295.20        42\n",
              "590.40        22\n",
              "2500.00       18\n",
              "3347.46       18\n",
              "            ... \n",
              "13700.34       1\n",
              "34601.35       1\n",
              "4486.73        1\n",
              "965.28         1\n",
              "659.13         1\n",
              "Name: count, Length: 8558, dtype: int64"
            ]
          },
          "execution_count": 31,
          "metadata": {},
          "output_type": "execute_result"
        }
      ],
      "source": [
        "data['Overtime Pay'].value_counts()"
      ]
    },
    {
      "cell_type": "code",
      "execution_count": 32,
      "metadata": {
        "colab": {
          "base_uri": "https://localhost:8080/",
          "height": 523
        },
        "id": "Jnx13KZXCW7o",
        "outputId": "11294a96-3722-4b9a-8584-1e378bfdb0af"
      },
      "outputs": [
        {
          "data": {
            "text/plain": [
              "<seaborn.axisgrid.FacetGrid at 0x7fb6968810a0>"
            ]
          },
          "execution_count": 32,
          "metadata": {},
          "output_type": "execute_result"
        },
        {
          "data": {
            "image/png": "[encoded data removed]",
            "text/plain": [
              "<Figure size 500x500 with 1 Axes>"
            ]
          },
          "metadata": {},
          "output_type": "display_data"
        }
      ],
      "source": [
        "#visual representation of the column\n",
        "sns.displot(data['Overtime Pay'],kde=True,palette='pastel')"
      ]
    },
    {
      "cell_type": "markdown",
      "metadata": {
        "id": "WNDtiE_fZV1W"
      },
      "source": [
        "Most employees do not get overtime pay"
      ]
    },
    {
      "cell_type": "code",
      "execution_count": 33,
      "metadata": {
        "colab": {
          "base_uri": "https://localhost:8080/",
          "height": 423
        },
        "id": "52akDbqlCaiu",
        "outputId": "b6ae356d-9d4c-42f1-d4e3-370ae8855eef"
      },
      "outputs": [
        {
          "data": {
            "text/plain": [
              "<Axes: ylabel='Overtime Pay'>"
            ]
          },
          "execution_count": 33,
          "metadata": {},
          "output_type": "execute_result"
        },
        {
          "data": {
            "image/png": "[encoded data removed]",
            "text/plain": [
              "<Figure size 640x480 with 1 Axes>"
            ]
          },
          "metadata": {},
          "output_type": "display_data"
        }
      ],
      "source": [
        "#checking for outliers\n",
        "sns.boxplot(data['Overtime Pay'])"
      ]
    },
    {
      "cell_type": "code",
      "execution_count": 34,
      "metadata": {
        "colab": {
          "base_uri": "https://localhost:8080/",
          "height": 423
        },
        "id": "h3kLE4WbCeAE",
        "outputId": "7ea0edd6-706c-435c-af15-1e3095c72756"
      },
      "outputs": [
        {
          "data": {
            "text/plain": [
              "<Axes: ylabel='Overtime Pay'>"
            ]
          },
          "execution_count": 34,
          "metadata": {},
          "output_type": "execute_result"
        },
        {
          "data": {
            "image/png": "[encoded data removed]",
            "text/plain": [
              "<Figure size 640x480 with 1 Axes>"
            ]
          },
          "metadata": {},
          "output_type": "display_data"
        }
      ],
      "source": [
        "##Handling the outliers\n",
        "Q1 = data['Overtime Pay'].quantile(0.25)\n",
        "Q3 = data['Overtime Pay'].quantile(0.75)\n",
        "\n",
        "IQR = Q3 - Q1\n",
        "\n",
        "lower_bound = Q1 - 1.5 * IQR\n",
        "upper_bound = Q3 + 1.5 * IQR\n",
        "\n",
        "# Capping the outliers\n",
        "data['Overtime Pay'] = np.where(data['Overtime Pay'] < lower_bound, lower_bound, data['Overtime Pay'])\n",
        "data['Overtime Pay'] = np.where(data['Overtime Pay'] > upper_bound, upper_bound, data['Overtime Pay'])\n",
        "\n",
        "# Visualize again to check\n",
        "sns.boxplot(data['Overtime Pay'])"
      ]
    },
    {
      "cell_type": "markdown",
      "metadata": {
        "id": "K3hK7RivD5kv"
      },
      "source": [
        "#### **Other Pay**"
      ]
    },
    {
      "cell_type": "code",
      "execution_count": 35,
      "metadata": {
        "colab": {
          "base_uri": "https://localhost:8080/",
          "height": 490
        },
        "id": "s7C7jt6pDQTQ",
        "outputId": "dd930093-140f-4ef9-b56e-8a30ba45d2ff"
      },
      "outputs": [
        {
          "data": {
            "text/plain": [
              "Other Pay\n",
              "75.00       1607\n",
              "0.00        1061\n",
              "129.75       166\n",
              "4975.00       72\n",
              "1150.00       60\n",
              "            ... \n",
              "10565.69       1\n",
              "692.40         1\n",
              "7029.20        1\n",
              "413.55         1\n",
              "4877.69        1\n",
              "Name: count, Length: 10066, dtype: int64"
            ]
          },
          "execution_count": 35,
          "metadata": {},
          "output_type": "execute_result"
        }
      ],
      "source": [
        "data['Other Pay'].value_counts()"
      ]
    },
    {
      "cell_type": "code",
      "execution_count": 36,
      "metadata": {
        "colab": {
          "base_uri": "https://localhost:8080/",
          "height": 523
        },
        "id": "WjXlVNOwEd9c",
        "outputId": "abac9419-95b2-4958-da7b-9a615c510aba"
      },
      "outputs": [
        {
          "data": {
            "text/plain": [
              "<seaborn.axisgrid.FacetGrid at 0x7fb697f474f0>"
            ]
          },
          "execution_count": 36,
          "metadata": {},
          "output_type": "execute_result"
        },
        {
          "data": {
            "image/png": "[encoded data removed]",
            "text/plain": [
              "<Figure size 500x500 with 1 Axes>"
            ]
          },
          "metadata": {},
          "output_type": "display_data"
        }
      ],
      "source": [
        "#visual representation of the column\n",
        "sns.displot(data['Other Pay'],kde=True,palette='pastel')"
      ]
    },
    {
      "cell_type": "markdown",
      "metadata": {
        "id": "Dy-2tvDOZhVV"
      },
      "source": [
        "Other employees also do not get  other pay."
      ]
    },
    {
      "cell_type": "code",
      "execution_count": 37,
      "metadata": {
        "colab": {
          "base_uri": "https://localhost:8080/",
          "height": 423
        },
        "id": "36KkYxgmEeEk",
        "outputId": "d1d9eaa8-0d23-429d-cc45-f2c937855b44"
      },
      "outputs": [
        {
          "data": {
            "text/plain": [
              "<Axes: ylabel='Other Pay'>"
            ]
          },
          "execution_count": 37,
          "metadata": {},
          "output_type": "execute_result"
        },
        {
          "data": {
            "image/png": "[encoded data removed]",
            "text/plain": [
              "<Figure size 640x480 with 1 Axes>"
            ]
          },
          "metadata": {},
          "output_type": "display_data"
        }
      ],
      "source": [
        "#checking for outliers\n",
        "sns.boxplot(data['Other Pay'])"
      ]
    },
    {
      "cell_type": "code",
      "execution_count": 38,
      "metadata": {
        "colab": {
          "base_uri": "https://localhost:8080/",
          "height": 423
        },
        "id": "m8JcBE09EeH4",
        "outputId": "7a41055b-72f4-4717-9121-443c4e41baf7"
      },
      "outputs": [
        {
          "data": {
            "text/plain": [
              "<Axes: ylabel='Other Pay'>"
            ]
          },
          "execution_count": 38,
          "metadata": {},
          "output_type": "execute_result"
        },
        {
          "data": {
            "image/png": "[encoded data removed]",
            "text/plain": [
              "<Figure size 640x480 with 1 Axes>"
            ]
          },
          "metadata": {},
          "output_type": "display_data"
        }
      ],
      "source": [
        "##Handling the outliers\n",
        "Q1 = data['Other Pay'].quantile(0.25)\n",
        "Q3 = data['Other Pay'].quantile(0.75)\n",
        "\n",
        "IQR = Q3 - Q1\n",
        "\n",
        "lower_bound = Q1 - 1.5 * IQR\n",
        "upper_bound = Q3 + 1.5 * IQR\n",
        "\n",
        "# Capping the outliers\n",
        "data['Other Pay'] = np.where(data['Other Pay'] < lower_bound, lower_bound, data['Other Pay'])\n",
        "data['Other Pay'] = np.where(data['Other Pay'] > upper_bound, upper_bound, data['Other Pay'])\n",
        "\n",
        "# Visualize again to check\n",
        "sns.boxplot(data['Other Pay'])"
      ]
    },
    {
      "cell_type": "markdown",
      "metadata": {
        "id": "t845vGmMHD3d"
      },
      "source": [
        "## Categorical columns"
      ]
    },
    {
      "cell_type": "code",
      "execution_count": 39,
      "metadata": {
        "colab": {
          "base_uri": "https://localhost:8080/"
        },
        "id": "8lTy_9R3EeL1",
        "outputId": "81e4cfb0-d0f9-47fa-874e-fd78d7e5fea0"
      },
      "outputs": [
        {
          "data": {
            "text/plain": [
              "Index(['Department', 'Job Title', 'Full/Part Time', 'Hire Date'], dtype='object')"
            ]
          },
          "execution_count": 39,
          "metadata": {},
          "output_type": "execute_result"
        }
      ],
      "source": [
        "Categoprical_columns = data.select_dtypes(include='object').columns\n",
        "Categoprical_columns"
      ]
    },
    {
      "cell_type": "markdown",
      "metadata": {
        "id": "2O2bRnfhHv3K"
      },
      "source": [
        "#### **Department**"
      ]
    },
    {
      "cell_type": "code",
      "execution_count": 40,
      "metadata": {
        "colab": {
          "base_uri": "https://localhost:8080/",
          "height": 1000
        },
        "id": "NdnnRpfVHVs8",
        "outputId": "66750b14-5b6a-4112-d1ec-e027ca14967d"
      },
      "outputs": [
        {
          "data": {
            "text/plain": [
              "Department\n",
              "Police Department                 4205\n",
              "Fire Department                   2142\n",
              "Water Services Department         1400\n",
              "Public Works Department           1065\n",
              "Aviation                           798\n",
              "Parks and Recreation Dept.         714\n",
              "Street Transportation Dept         639\n",
              "Library Department                 537\n",
              "Planning & Development Dept        463\n",
              "Parks & Rec. Part-time EEs         452\n",
              "Human Services Department          372\n",
              "Parks & Recreation: Aquatics       327\n",
              "Municipal Court                    300\n",
              "City Attorney & City Prosec.       206\n",
              "Phoenix Convention Center          206\n",
              "Information Technology Depart.     192\n",
              "Finance Department                 192\n",
              "Neighborhood Services Dept         165\n",
              "Housing Dept                       118\n",
              "Human Resources                    116\n",
              "Public Transit                     113\n",
              "City Clerk                          57\n",
              "Community & Economic Develop        49\n",
              "Office Of Admin. Services           46\n",
              "Equal Opportunity Department        28\n",
              "Office Of The Council: Staff        27\n",
              "Budget And Research                 26\n",
              "City Manager And Staff-Funct.       26\n",
              "City Auditor                        25\n",
              "Communications Office               23\n",
              "City Retirement Board               18\n",
              "Office Of The Mayor: Staff          13\n",
              "Office Of Mayor And Council         11\n",
              "Public Defender's Office            10\n",
              "PHX Employee Relations Board         1\n",
              "Name: count, dtype: int64"
            ]
          },
          "execution_count": 40,
          "metadata": {},
          "output_type": "execute_result"
        }
      ],
      "source": [
        "data['Department'].value_counts()"
      ]
    },
    {
      "cell_type": "markdown",
      "metadata": {
        "id": "frqnAT2AMGiF"
      },
      "source": [
        "We are having quite a number of departments.We cant label encode all the departments as our model might favour others, instead we are going to group them further into two;popular and unpopular departments."
      ]
    },
    {
      "cell_type": "code",
      "execution_count": 41,
      "metadata": {
        "colab": {
          "base_uri": "https://localhost:8080/",
          "height": 467
        },
        "id": "FAtZu0rwQsWm",
        "outputId": "f78a037d-1c93-43c8-933e-3906f1b30b59"
      },
      "outputs": [
        {
          "data": {
            "text/plain": [
              "<Axes: xlabel='count', ylabel='Department'>"
            ]
          },
          "execution_count": 41,
          "metadata": {},
          "output_type": "execute_result"
        },
        {
          "data": {
            "image/png": "[encoded data removed]",
            "text/plain": [
              "<Figure size 640x480 with 1 Axes>"
            ]
          },
          "metadata": {},
          "output_type": "display_data"
        }
      ],
      "source": [
        "sns.countplot(data['Department'],palette='pastel')"
      ]
    },
    {
      "cell_type": "markdown",
      "metadata": {
        "id": "Nxa7rEBRatjX"
      },
      "source": [
        "### Job Title"
      ]
    },
    {
      "cell_type": "code",
      "execution_count": 42,
      "metadata": {
        "colab": {
          "base_uri": "https://localhost:8080/",
          "height": 490
        },
        "id": "eB5CuzlRac5b",
        "outputId": "649a4c8f-0a65-443b-cd29-42e59e90350b"
      },
      "outputs": [
        {
          "data": {
            "text/plain": [
              "Job Title\n",
              "Police Officer                    2459\n",
              "Firefighter 56hr                   868\n",
              "Police Sergeant                    390\n",
              "Fire Captain 56hr                  354\n",
              "Fire Engineer 56hr                 350\n",
              "                                  ... \n",
              "Records Clerk III                    1\n",
              "Curriculum/Trng Coord*Supv Dev       1\n",
              "Elections Coord*Citizen Supprt       1\n",
              "Fire Chief (NC)                      1\n",
              "Const Permit Supv                    1\n",
              "Name: count, Length: 764, dtype: int64"
            ]
          },
          "execution_count": 42,
          "metadata": {},
          "output_type": "execute_result"
        }
      ],
      "source": [
        "data['Job Title'].value_counts()"
      ]
    },
    {
      "cell_type": "markdown",
      "metadata": {
        "id": "W2vmMaipa-U5"
      },
      "source": [
        "### Full/Part Time"
      ]
    },
    {
      "cell_type": "code",
      "execution_count": 43,
      "metadata": {
        "colab": {
          "base_uri": "https://localhost:8080/",
          "height": 178
        },
        "id": "nYp1u6fRa0dG",
        "outputId": "5d703cd3-90d3-4104-e0de-13090427a308"
      },
      "outputs": [
        {
          "data": {
            "text/plain": [
              "Full/Part Time\n",
              "F    13638\n",
              "P     1444\n",
              "Name: count, dtype: int64"
            ]
          },
          "execution_count": 43,
          "metadata": {},
          "output_type": "execute_result"
        }
      ],
      "source": [
        "data['Full/Part Time'].value_counts()"
      ]
    },
    {
      "cell_type": "code",
      "execution_count": 44,
      "metadata": {
        "colab": {
          "base_uri": "https://localhost:8080/",
          "height": 466
        },
        "id": "ljOYiHcNbJ8D",
        "outputId": "4cb74790-5cd1-448e-d55c-a37d38eb5d1a"
      },
      "outputs": [
        {
          "data": {
            "text/plain": [
              "<Axes: xlabel='count', ylabel='Full/Part Time'>"
            ]
          },
          "execution_count": 44,
          "metadata": {},
          "output_type": "execute_result"
        },
        {
          "data": {
            "image/png": "[encoded data removed]",
            "text/plain": [
              "<Figure size 640x480 with 1 Axes>"
            ]
          },
          "metadata": {},
          "output_type": "display_data"
        }
      ],
      "source": [
        "sns.countplot(data['Full/Part Time'],palette='pastel')"
      ]
    },
    {
      "cell_type": "markdown",
      "metadata": {
        "id": "-u7zomjSbbBO"
      },
      "source": [
        "### Hire Date"
      ]
    },
    {
      "cell_type": "code",
      "execution_count": 45,
      "metadata": {
        "colab": {
          "base_uri": "https://localhost:8080/",
          "height": 490
        },
        "id": "GKN-YdkAbMwg",
        "outputId": "417d03de-65b7-4f2a-b726-8e5d02cb9e51"
      },
      "outputs": [
        {
          "data": {
            "text/plain": [
              "Hire Date\n",
              "4/19/2021    155\n",
              "11/1/2021    101\n",
              "6/17/2019     85\n",
              "5/31/2021     84\n",
              "10/7/2019     77\n",
              "            ... \n",
              "4/28/2015      1\n",
              "2/5/1979       1\n",
              "7/17/1989      1\n",
              "10/1/1984      1\n",
              "4/2/1987       1\n",
              "Name: count, Length: 1323, dtype: int64"
            ]
          },
          "execution_count": 45,
          "metadata": {},
          "output_type": "execute_result"
        }
      ],
      "source": [
        "data['Hire Date'].value_counts()"
      ]
    },
    {
      "cell_type": "markdown",
      "metadata": {
        "id": "GXsRXLSwcBQz"
      },
      "source": [
        "Using the the Hire date we are going to create a column called Period_Worked.\n"
      ]
    },
    {
      "cell_type": "code",
      "execution_count": 46,
      "metadata": {
        "id": "XxA90kegbmWn"
      },
      "outputs": [],
      "source": [
        "#converting the Hire date to a datetime format\n",
        "data['Hire Date'] = pd.to_datetime(data['Hire Date'])\n",
        "\n"
      ]
    },
    {
      "cell_type": "code",
      "execution_count": 47,
      "metadata": {
        "colab": {
          "base_uri": "https://localhost:8080/"
        },
        "id": "pj22bJtJf3UZ",
        "outputId": "a1e1f900-82aa-456c-b5ea-0fe1d0ed3a61"
      },
      "outputs": [
        {
          "name": "stdout",
          "output_type": "stream",
          "text": [
            "       Hire Date  Period_worked\n",
            "0     1991-07-15          11109\n",
            "1     2018-12-17           1092\n",
            "2     2008-01-14           5082\n",
            "3     2009-12-28           4368\n",
            "4     2010-04-19           4256\n",
            "...          ...            ...\n",
            "15077 2002-11-25           6958\n",
            "15078 1999-06-28           8204\n",
            "15079 2019-05-06            952\n",
            "15080 2017-03-27           1722\n",
            "15081 2011-08-08           3780\n",
            "\n",
            "[15082 rows x 2 columns]\n"
          ]
        }
      ],
      "source": [
        "# Find the latest (maximum) hire date in the dataset\n",
        "latest_hire_date = data['Hire Date'].max()\n",
        "\n",
        "# Calculate the period worked for each employee\n",
        "data['Period_worked'] = (latest_hire_date - data['Hire Date']).dt.days\n",
        "\n",
        "# Output the dataframe with the new column\n",
        "print(data[['Hire Date', 'Period_worked']])"
      ]
    },
    {
      "cell_type": "code",
      "execution_count": 48,
      "metadata": {
        "colab": {
          "base_uri": "https://localhost:8080/",
          "height": 458
        },
        "id": "9GjF-PVcjjFm",
        "outputId": "dcad01de-734c-4ad6-875c-930db5b11d32"
      },
      "outputs": [
        {
          "data": {
            "text/plain": [
              "0        11109\n",
              "1         1092\n",
              "2         5082\n",
              "3         4368\n",
              "4         4256\n",
              "         ...  \n",
              "15077     6958\n",
              "15078     8204\n",
              "15079      952\n",
              "15080     1722\n",
              "15081     3780\n",
              "Name: Period_worked, Length: 15082, dtype: int64"
            ]
          },
          "execution_count": 48,
          "metadata": {},
          "output_type": "execute_result"
        }
      ],
      "source": [
        "data['Period_worked'].astype(int)"
      ]
    },
    {
      "cell_type": "code",
      "execution_count": 49,
      "metadata": {
        "colab": {
          "base_uri": "https://localhost:8080/",
          "height": 523
        },
        "id": "hJ6EUB7HlwAr",
        "outputId": "0631b691-be17-482a-eb54-15d69c651fd6"
      },
      "outputs": [
        {
          "data": {
            "text/plain": [
              "<seaborn.axisgrid.FacetGrid at 0x7fb699749910>"
            ]
          },
          "execution_count": 49,
          "metadata": {},
          "output_type": "execute_result"
        },
        {
          "data": {
            "image/png": "[encoded data removed]",
            "text/plain": [
              "<Figure size 500x500 with 1 Axes>"
            ]
          },
          "metadata": {},
          "output_type": "display_data"
        }
      ],
      "source": [
        "sns.displot(data['Period_worked'],kde=True,palette='pastel')"
      ]
    },
    {
      "cell_type": "code",
      "execution_count": 50,
      "metadata": {
        "colab": {
          "base_uri": "https://localhost:8080/",
          "height": 423
        },
        "id": "2frUVtMYmvUP",
        "outputId": "b2cf6f36-1a44-4098-b6fa-b2977bfb18bc"
      },
      "outputs": [
        {
          "data": {
            "text/plain": [
              "<Axes: ylabel='Period_worked'>"
            ]
          },
          "execution_count": 50,
          "metadata": {},
          "output_type": "execute_result"
        },
        {
          "data": {
            "image/png": "[encoded data removed]",
            "text/plain": [
              "<Figure size 640x480 with 1 Axes>"
            ]
          },
          "metadata": {},
          "output_type": "display_data"
        }
      ],
      "source": [
        "sns.boxplot(data['Period_worked'])"
      ]
    },
    {
      "cell_type": "code",
      "execution_count": 51,
      "metadata": {
        "id": "DAGta_U9l7GR"
      },
      "outputs": [],
      "source": [
        "#dropping the Hire date column as we will not be using it anymore\n",
        "data = data.drop('Hire Date',axis=1)"
      ]
    },
    {
      "cell_type": "code",
      "execution_count": 52,
      "metadata": {
        "colab": {
          "base_uri": "https://localhost:8080/",
          "height": 423
        },
        "id": "AOH246f2l7KF",
        "outputId": "a03bec89-f6e6-4fb9-a1b6-46cc4cd01abd"
      },
      "outputs": [
        {
          "data": {
            "text/plain": [
              "<Axes: ylabel='Period_worked'>"
            ]
          },
          "execution_count": 52,
          "metadata": {},
          "output_type": "execute_result"
        },
        {
          "data": {
            "image/png": "[encoded data removed]",
            "text/plain": [
              "<Figure size 640x480 with 1 Axes>"
            ]
          },
          "metadata": {},
          "output_type": "display_data"
        }
      ],
      "source": [
        "##Handling the outliers\n",
        "Q1 = data['Other Pay'].quantile(0.25)\n",
        "Q3 = data['Other Pay'].quantile(0.75)\n",
        "\n",
        "IQR = Q3 - Q1\n",
        "\n",
        "lower_bound = Q1 - 1.5 * IQR\n",
        "upper_bound = Q3 + 1.5 * IQR\n",
        "\n",
        "# Capping the outliers\n",
        "data['Period_worked'] = np.where(data['Period_worked'] < lower_bound, lower_bound, data['Period_worked'])\n",
        "data['Period_worked'] = np.where(data['Period_worked'] > upper_bound, upper_bound, data['Period_worked'])\n",
        "\n",
        "# Visualize again to check\n",
        "sns.boxplot(data['Period_worked'])"
      ]
    },
    {
      "cell_type": "markdown",
      "metadata": {
        "id": "WDFKCDioncEu"
      },
      "source": [
        "#### Target column\n",
        "We are going to create our Target column which is Total compensation by adding Regular pay,Overtime Pay and Period worked."
      ]
    },
    {
      "cell_type": "code",
      "execution_count": 53,
      "metadata": {
        "id": "qXxnZk33jtXm"
      },
      "outputs": [],
      "source": [
        "data['Total_compensation'] = data['Regular Pay'] + data['Overtime Pay'] + data['Period_worked']"
      ]
    },
    {
      "cell_type": "code",
      "execution_count": 54,
      "metadata": {
        "colab": {
          "base_uri": "https://localhost:8080/",
          "height": 490
        },
        "id": "UOUywiiUj0IG",
        "outputId": "cd9e59cd-0f4b-44c6-9c97-f970d2262472"
      },
      "outputs": [
        {
          "data": {
            "text/plain": [
              "Total_compensation\n",
              "6163.7500     45\n",
              "3636.4000     10\n",
              "94361.2125     9\n",
              "55736.8000     8\n",
              "95313.2125     7\n",
              "              ..\n",
              "76712.1600     1\n",
              "68253.2000     1\n",
              "5362.0000      1\n",
              "54887.6000     1\n",
              "74992.7300     1\n",
              "Name: count, Length: 14532, dtype: int64"
            ]
          },
          "execution_count": 54,
          "metadata": {},
          "output_type": "execute_result"
        }
      ],
      "source": [
        "data['Total_compensation'].value_counts()"
      ]
    },
    {
      "cell_type": "code",
      "execution_count": 55,
      "metadata": {
        "colab": {
          "base_uri": "https://localhost:8080/",
          "height": 524
        },
        "id": "6YtUcu9VoINX",
        "outputId": "a0fc3831-60fc-445f-9ced-52f9f16d9c86"
      },
      "outputs": [
        {
          "data": {
            "text/plain": [
              "<seaborn.axisgrid.FacetGrid at 0x7fb699e72520>"
            ]
          },
          "execution_count": 55,
          "metadata": {},
          "output_type": "execute_result"
        },
        {
          "data": {
            "image/png": "[encoded data removed]",
            "text/plain": [
              "<Figure size 500x500 with 1 Axes>"
            ]
          },
          "metadata": {},
          "output_type": "display_data"
        }
      ],
      "source": [
        "sns.displot(data['Total_compensation'],kde=True,palette='pastel')"
      ]
    },
    {
      "cell_type": "markdown",
      "metadata": {
        "id": "2Pu7Eignp7Zx"
      },
      "source": [
        "The data is normally distributed."
      ]
    },
    {
      "cell_type": "code",
      "execution_count": 56,
      "metadata": {
        "colab": {
          "base_uri": "https://localhost:8080/",
          "height": 493
        },
        "id": "ExysluAGoNWi",
        "outputId": "58981a25-8e4f-4fbd-b28b-a4e58515c69a"
      },
      "outputs": [
        {
          "data": {
            "text/html": [
              "<div>\n",
              "<style scoped>\n",
              "    .dataframe tbody tr th:only-of-type {\n",
              "        vertical-align: middle;\n",
              "    }\n",
              "\n",
              "    .dataframe tbody tr th {\n",
              "        vertical-align: top;\n",
              "    }\n",
              "\n",
              "    .dataframe thead th {\n",
              "        text-align: right;\n",
              "    }\n",
              "</style>\n",
              "<table border=\"1\" class=\"dataframe\">\n",
              "  <thead>\n",
              "    <tr style=\"text-align: right;\">\n",
              "      <th></th>\n",
              "      <th>Benefits Category</th>\n",
              "      <th>Department</th>\n",
              "      <th>Job Title</th>\n",
              "      <th>Full/Part Time</th>\n",
              "      <th>Hourly Rate</th>\n",
              "      <th>Regular Pay</th>\n",
              "      <th>Overtime Pay</th>\n",
              "      <th>Other Pay</th>\n",
              "      <th>Period_worked</th>\n",
              "      <th>Total_compensation</th>\n",
              "    </tr>\n",
              "  </thead>\n",
              "  <tbody>\n",
              "    <tr>\n",
              "      <th>0</th>\n",
              "      <td>4.0</td>\n",
              "      <td>Police Department</td>\n",
              "      <td>Police Officer</td>\n",
              "      <td>F</td>\n",
              "      <td>37.79</td>\n",
              "      <td>71560.00</td>\n",
              "      <td>0.0000</td>\n",
              "      <td>5238.09</td>\n",
              "      <td>11109.0</td>\n",
              "      <td>82669.0000</td>\n",
              "    </tr>\n",
              "    <tr>\n",
              "      <th>1</th>\n",
              "      <td>4.0</td>\n",
              "      <td>Police Department</td>\n",
              "      <td>Police Officer</td>\n",
              "      <td>F</td>\n",
              "      <td>30.04</td>\n",
              "      <td>58472.80</td>\n",
              "      <td>2480.9600</td>\n",
              "      <td>1490.57</td>\n",
              "      <td>1092.0</td>\n",
              "      <td>62045.7600</td>\n",
              "    </tr>\n",
              "    <tr>\n",
              "      <th>2</th>\n",
              "      <td>5.0</td>\n",
              "      <td>Fire Department</td>\n",
              "      <td>Firefighter 56hr</td>\n",
              "      <td>F</td>\n",
              "      <td>24.48</td>\n",
              "      <td>65584.91</td>\n",
              "      <td>12484.8125</td>\n",
              "      <td>1329.91</td>\n",
              "      <td>5082.0</td>\n",
              "      <td>83151.7225</td>\n",
              "    </tr>\n",
              "    <tr>\n",
              "      <th>3</th>\n",
              "      <td>7.0</td>\n",
              "      <td>Police Department</td>\n",
              "      <td>Forensic Scientist IV</td>\n",
              "      <td>F</td>\n",
              "      <td>51.02</td>\n",
              "      <td>104979.20</td>\n",
              "      <td>0.0000</td>\n",
              "      <td>1175.32</td>\n",
              "      <td>4368.0</td>\n",
              "      <td>109347.2000</td>\n",
              "    </tr>\n",
              "    <tr>\n",
              "      <th>4</th>\n",
              "      <td>998.0</td>\n",
              "      <td>Parks &amp; Recreation: Aquatics</td>\n",
              "      <td>Parks &amp; Recreation Aide*Cash</td>\n",
              "      <td>P</td>\n",
              "      <td>12.92</td>\n",
              "      <td>5131.92</td>\n",
              "      <td>259.6800</td>\n",
              "      <td>75.00</td>\n",
              "      <td>4256.0</td>\n",
              "      <td>9647.6000</td>\n",
              "    </tr>\n",
              "    <tr>\n",
              "      <th>...</th>\n",
              "      <td>...</td>\n",
              "      <td>...</td>\n",
              "      <td>...</td>\n",
              "      <td>...</td>\n",
              "      <td>...</td>\n",
              "      <td>...</td>\n",
              "      <td>...</td>\n",
              "      <td>...</td>\n",
              "      <td>...</td>\n",
              "      <td>...</td>\n",
              "    </tr>\n",
              "    <tr>\n",
              "      <th>15077</th>\n",
              "      <td>4.0</td>\n",
              "      <td>Police Department</td>\n",
              "      <td>Police Officer</td>\n",
              "      <td>F</td>\n",
              "      <td>37.79</td>\n",
              "      <td>77606.40</td>\n",
              "      <td>12484.8125</td>\n",
              "      <td>9888.24</td>\n",
              "      <td>6958.0</td>\n",
              "      <td>97049.2125</td>\n",
              "    </tr>\n",
              "    <tr>\n",
              "      <th>15078</th>\n",
              "      <td>7.0</td>\n",
              "      <td>Municipal Court</td>\n",
              "      <td>Management Asst II</td>\n",
              "      <td>F</td>\n",
              "      <td>46.21</td>\n",
              "      <td>95086.40</td>\n",
              "      <td>0.0000</td>\n",
              "      <td>1886.60</td>\n",
              "      <td>8204.0</td>\n",
              "      <td>103290.4000</td>\n",
              "    </tr>\n",
              "    <tr>\n",
              "      <th>15079</th>\n",
              "      <td>1.0</td>\n",
              "      <td>Public Works Department</td>\n",
              "      <td>Solid Waste Equipment Operator</td>\n",
              "      <td>F</td>\n",
              "      <td>21.43</td>\n",
              "      <td>43489.92</td>\n",
              "      <td>8826.2900</td>\n",
              "      <td>29.93</td>\n",
              "      <td>952.0</td>\n",
              "      <td>53268.2100</td>\n",
              "    </tr>\n",
              "    <tr>\n",
              "      <th>15080</th>\n",
              "      <td>4.0</td>\n",
              "      <td>Police Department</td>\n",
              "      <td>Police Officer</td>\n",
              "      <td>F</td>\n",
              "      <td>31.75</td>\n",
              "      <td>64827.10</td>\n",
              "      <td>2699.1200</td>\n",
              "      <td>1423.74</td>\n",
              "      <td>1722.0</td>\n",
              "      <td>69248.2200</td>\n",
              "    </tr>\n",
              "    <tr>\n",
              "      <th>15081</th>\n",
              "      <td>7.0</td>\n",
              "      <td>Aviation</td>\n",
              "      <td>Equipment Shop Foreman</td>\n",
              "      <td>F</td>\n",
              "      <td>34.20</td>\n",
              "      <td>70553.60</td>\n",
              "      <td>659.1300</td>\n",
              "      <td>4877.69</td>\n",
              "      <td>3780.0</td>\n",
              "      <td>74992.7300</td>\n",
              "    </tr>\n",
              "  </tbody>\n",
              "</table>\n",
              "<p>15082 rows × 10 columns</p>\n",
              "</div>"
            ],
            "text/plain": [
              "      Benefits Category                    Department  \\\n",
              "0                   4.0             Police Department   \n",
              "1                   4.0             Police Department   \n",
              "2                   5.0               Fire Department   \n",
              "3                   7.0             Police Department   \n",
              "4                 998.0  Parks & Recreation: Aquatics   \n",
              "...                 ...                           ...   \n",
              "15077               4.0             Police Department   \n",
              "15078               7.0               Municipal Court   \n",
              "15079               1.0       Public Works Department   \n",
              "15080               4.0             Police Department   \n",
              "15081               7.0                      Aviation   \n",
              "\n",
              "                            Job Title Full/Part Time  Hourly Rate  \\\n",
              "0                      Police Officer              F        37.79   \n",
              "1                      Police Officer              F        30.04   \n",
              "2                    Firefighter 56hr              F        24.48   \n",
              "3               Forensic Scientist IV              F        51.02   \n",
              "4        Parks & Recreation Aide*Cash              P        12.92   \n",
              "...                               ...            ...          ...   \n",
              "15077                  Police Officer              F        37.79   \n",
              "15078              Management Asst II              F        46.21   \n",
              "15079  Solid Waste Equipment Operator              F        21.43   \n",
              "15080                  Police Officer              F        31.75   \n",
              "15081          Equipment Shop Foreman              F        34.20   \n",
              "\n",
              "       Regular Pay  Overtime Pay  Other Pay  Period_worked  Total_compensation  \n",
              "0         71560.00        0.0000    5238.09        11109.0          82669.0000  \n",
              "1         58472.80     2480.9600    1490.57         1092.0          62045.7600  \n",
              "2         65584.91    12484.8125    1329.91         5082.0          83151.7225  \n",
              "3        104979.20        0.0000    1175.32         4368.0         109347.2000  \n",
              "4          5131.92      259.6800      75.00         4256.0           9647.6000  \n",
              "...            ...           ...        ...            ...                 ...  \n",
              "15077     77606.40    12484.8125    9888.24         6958.0          97049.2125  \n",
              "15078     95086.40        0.0000    1886.60         8204.0         103290.4000  \n",
              "15079     43489.92     8826.2900      29.93          952.0          53268.2100  \n",
              "15080     64827.10     2699.1200    1423.74         1722.0          69248.2200  \n",
              "15081     70553.60      659.1300    4877.69         3780.0          74992.7300  \n",
              "\n",
              "[15082 rows x 10 columns]"
            ]
          },
          "execution_count": 56,
          "metadata": {},
          "output_type": "execute_result"
        }
      ],
      "source": [
        "data"
      ]
    },
    {
      "cell_type": "code",
      "execution_count": 57,
      "metadata": {
        "id": "QWps4BFXwRPt"
      },
      "outputs": [],
      "source": [
        "data = data.drop(['Regular Pay','Overtime Pay','Other Pay'],axis=1)"
      ]
    },
    {
      "cell_type": "markdown",
      "metadata": {
        "id": "OFYydaritsc8"
      },
      "source": [
        "## Model building"
      ]
    },
    {
      "cell_type": "code",
      "execution_count": 58,
      "metadata": {
        "colab": {
          "base_uri": "https://localhost:8080/"
        },
        "id": "D1EeAqyiqCfp",
        "outputId": "fe376def-a503-4c26-b435-8a690c050368"
      },
      "outputs": [
        {
          "name": "stdout",
          "output_type": "stream",
          "text": [
            "Numerical Features : ['Benefits Category', 'Hourly Rate', 'Period_worked', 'Total_compensation']\n",
            "Categorical Features : ['Department', 'Job Title', 'Full/Part Time']\n",
            "Discrete Features : ['Benefits Category']\n",
            "Continuous Features : ['Hourly Rate', 'Period_worked', 'Total_compensation']\n"
          ]
        }
      ],
      "source": [
        "## Getting All Different Types OF Features\n",
        "num_features = [feature for feature in data.columns if data[feature].dtype != 'O']\n",
        "print(f'Numerical Features :',num_features)\n",
        "cat_features = [feature for feature in data.columns if data[feature].dtype == 'O']\n",
        "print(f'Categorical Features :', cat_features)\n",
        "discrete_features=[feature for feature in num_features if len(data[feature].unique())<=25]\n",
        "print('Discrete Features :',discrete_features)\n",
        "continuous_features=[feature for feature in num_features if feature not in discrete_features]\n",
        "print('Continuous Features :',continuous_features)"
      ]
    },
    {
      "cell_type": "code",
      "execution_count": 59,
      "metadata": {
        "id": "XWFJWcjNu4X1"
      },
      "outputs": [],
      "source": [
        "## Indpendent and dependent features\n",
        "from sklearn.model_selection import train_test_split\n",
        "X = data.drop(['Total_compensation'], axis=1)\n",
        "y = data['Total_compensation']"
      ]
    },
    {
      "cell_type": "code",
      "execution_count": 60,
      "metadata": {
        "colab": {
          "base_uri": "https://localhost:8080/",
          "height": 206
        },
        "id": "nc0hydVavk-a",
        "outputId": "e43344e3-2a10-469d-97ae-e998b827562f"
      },
      "outputs": [
        {
          "data": {
            "text/html": [
              "<div>\n",
              "<style scoped>\n",
              "    .dataframe tbody tr th:only-of-type {\n",
              "        vertical-align: middle;\n",
              "    }\n",
              "\n",
              "    .dataframe tbody tr th {\n",
              "        vertical-align: top;\n",
              "    }\n",
              "\n",
              "    .dataframe thead th {\n",
              "        text-align: right;\n",
              "    }\n",
              "</style>\n",
              "<table border=\"1\" class=\"dataframe\">\n",
              "  <thead>\n",
              "    <tr style=\"text-align: right;\">\n",
              "      <th></th>\n",
              "      <th>Benefits Category</th>\n",
              "      <th>Department</th>\n",
              "      <th>Job Title</th>\n",
              "      <th>Full/Part Time</th>\n",
              "      <th>Hourly Rate</th>\n",
              "      <th>Period_worked</th>\n",
              "    </tr>\n",
              "  </thead>\n",
              "  <tbody>\n",
              "    <tr>\n",
              "      <th>0</th>\n",
              "      <td>4.0</td>\n",
              "      <td>Police Department</td>\n",
              "      <td>Police Officer</td>\n",
              "      <td>F</td>\n",
              "      <td>37.79</td>\n",
              "      <td>11109.0</td>\n",
              "    </tr>\n",
              "    <tr>\n",
              "      <th>1</th>\n",
              "      <td>4.0</td>\n",
              "      <td>Police Department</td>\n",
              "      <td>Police Officer</td>\n",
              "      <td>F</td>\n",
              "      <td>30.04</td>\n",
              "      <td>1092.0</td>\n",
              "    </tr>\n",
              "    <tr>\n",
              "      <th>2</th>\n",
              "      <td>5.0</td>\n",
              "      <td>Fire Department</td>\n",
              "      <td>Firefighter 56hr</td>\n",
              "      <td>F</td>\n",
              "      <td>24.48</td>\n",
              "      <td>5082.0</td>\n",
              "    </tr>\n",
              "    <tr>\n",
              "      <th>3</th>\n",
              "      <td>7.0</td>\n",
              "      <td>Police Department</td>\n",
              "      <td>Forensic Scientist IV</td>\n",
              "      <td>F</td>\n",
              "      <td>51.02</td>\n",
              "      <td>4368.0</td>\n",
              "    </tr>\n",
              "    <tr>\n",
              "      <th>4</th>\n",
              "      <td>998.0</td>\n",
              "      <td>Parks &amp; Recreation: Aquatics</td>\n",
              "      <td>Parks &amp; Recreation Aide*Cash</td>\n",
              "      <td>P</td>\n",
              "      <td>12.92</td>\n",
              "      <td>4256.0</td>\n",
              "    </tr>\n",
              "  </tbody>\n",
              "</table>\n",
              "</div>"
            ],
            "text/plain": [
              "  Benefits Category                    Department  \\\n",
              "0               4.0             Police Department   \n",
              "1               4.0             Police Department   \n",
              "2               5.0               Fire Department   \n",
              "3               7.0             Police Department   \n",
              "4             998.0  Parks & Recreation: Aquatics   \n",
              "\n",
              "                      Job Title Full/Part Time  Hourly Rate  Period_worked  \n",
              "0                Police Officer              F        37.79        11109.0  \n",
              "1                Police Officer              F        30.04         1092.0  \n",
              "2              Firefighter 56hr              F        24.48         5082.0  \n",
              "3         Forensic Scientist IV              F        51.02         4368.0  \n",
              "4  Parks & Recreation Aide*Cash              P        12.92         4256.0  "
            ]
          },
          "execution_count": 60,
          "metadata": {},
          "output_type": "execute_result"
        }
      ],
      "source": [
        "X.head()"
      ]
    },
    {
      "cell_type": "markdown",
      "metadata": {
        "id": "oSYc-bXTwKdl"
      },
      "source": [
        "### Feature Encoding and Scaling\n",
        "One Hot Encoding for Columns which had lesser unique values and not ordinal\n"
      ]
    },
    {
      "cell_type": "code",
      "execution_count": 61,
      "metadata": {
        "id": "Y8TVeUbfvp2f"
      },
      "outputs": [],
      "source": [
        "from sklearn.preprocessing import LabelEncoder\n",
        "le=LabelEncoder()\n",
        "X['Department']=le.fit_transform(X['Department'])\n",
        "X['Job Title']=le.fit_transform(X['Job Title'])\n"
      ]
    },
    {
      "cell_type": "code",
      "execution_count": 62,
      "metadata": {
        "id": "b-8uV4eRwzaU"
      },
      "outputs": [],
      "source": [
        "# Create Column Transformer with 3 types of transformers\n",
        "num_features = X.select_dtypes(exclude=\"object\").columns\n",
        "onehot_columns = ['Full/Part Time']\n",
        "\n",
        "from sklearn.preprocessing import OneHotEncoder, StandardScaler\n",
        "from sklearn.compose import ColumnTransformer\n",
        "\n",
        "numeric_transformer = StandardScaler()\n",
        "oh_transformer = OneHotEncoder(drop='first')\n",
        "\n",
        "preprocessor = ColumnTransformer(\n",
        "    [\n",
        "        (\"OneHotEncoder\", oh_transformer, onehot_columns),\n",
        "        (\"StandardScaler\", numeric_transformer, num_features)\n",
        "\n",
        "    ],remainder='passthrough'\n",
        "\n",
        ")"
      ]
    },
    {
      "cell_type": "code",
      "execution_count": 63,
      "metadata": {
        "id": "EQiMz8zlxGdY"
      },
      "outputs": [],
      "source": [
        "X=preprocessor.fit_transform(X)"
      ]
    },
    {
      "cell_type": "code",
      "execution_count": 64,
      "metadata": {
        "colab": {
          "base_uri": "https://localhost:8080/",
          "height": 424
        },
        "id": "Y3RLEIyNxKGm",
        "outputId": "5c17d35c-837c-4ee2-bd42-4ac75896879f"
      },
      "outputs": [
        {
          "data": {
            "text/html": [
              "<div>\n",
              "<style scoped>\n",
              "    .dataframe tbody tr th:only-of-type {\n",
              "        vertical-align: middle;\n",
              "    }\n",
              "\n",
              "    .dataframe tbody tr th {\n",
              "        vertical-align: top;\n",
              "    }\n",
              "\n",
              "    .dataframe thead th {\n",
              "        text-align: right;\n",
              "    }\n",
              "</style>\n",
              "<table border=\"1\" class=\"dataframe\">\n",
              "  <thead>\n",
              "    <tr style=\"text-align: right;\">\n",
              "      <th></th>\n",
              "      <th>0</th>\n",
              "      <th>1</th>\n",
              "      <th>2</th>\n",
              "      <th>3</th>\n",
              "      <th>4</th>\n",
              "      <th>5</th>\n",
              "    </tr>\n",
              "  </thead>\n",
              "  <tbody>\n",
              "    <tr>\n",
              "      <th>0</th>\n",
              "      <td>0.0</td>\n",
              "      <td>-0.328435</td>\n",
              "      <td>0.628173</td>\n",
              "      <td>0.591966</td>\n",
              "      <td>0.664061</td>\n",
              "      <td>2.004420</td>\n",
              "    </tr>\n",
              "    <tr>\n",
              "      <th>1</th>\n",
              "      <td>0.0</td>\n",
              "      <td>-0.328435</td>\n",
              "      <td>0.628173</td>\n",
              "      <td>0.591966</td>\n",
              "      <td>-0.044261</td>\n",
              "      <td>-0.975949</td>\n",
              "    </tr>\n",
              "    <tr>\n",
              "      <th>2</th>\n",
              "      <td>0.0</td>\n",
              "      <td>-0.325023</td>\n",
              "      <td>-1.151187</td>\n",
              "      <td>-0.462481</td>\n",
              "      <td>-0.552426</td>\n",
              "      <td>0.211200</td>\n",
              "    </tr>\n",
              "    <tr>\n",
              "      <th>3</th>\n",
              "      <td>0.0</td>\n",
              "      <td>-0.318201</td>\n",
              "      <td>0.628173</td>\n",
              "      <td>-0.411542</td>\n",
              "      <td>1.873237</td>\n",
              "      <td>-0.001237</td>\n",
              "    </tr>\n",
              "    <tr>\n",
              "      <th>4</th>\n",
              "      <td>1.0</td>\n",
              "      <td>3.062479</td>\n",
              "      <td>0.232760</td>\n",
              "      <td>0.388208</td>\n",
              "      <td>-1.608969</td>\n",
              "      <td>-0.034561</td>\n",
              "    </tr>\n",
              "    <tr>\n",
              "      <th>...</th>\n",
              "      <td>...</td>\n",
              "      <td>...</td>\n",
              "      <td>...</td>\n",
              "      <td>...</td>\n",
              "      <td>...</td>\n",
              "      <td>...</td>\n",
              "    </tr>\n",
              "    <tr>\n",
              "      <th>15077</th>\n",
              "      <td>0.0</td>\n",
              "      <td>-0.328435</td>\n",
              "      <td>0.628173</td>\n",
              "      <td>0.591966</td>\n",
              "      <td>0.664061</td>\n",
              "      <td>0.769368</td>\n",
              "    </tr>\n",
              "    <tr>\n",
              "      <th>15078</th>\n",
              "      <td>0.0</td>\n",
              "      <td>-0.318201</td>\n",
              "      <td>-0.558067</td>\n",
              "      <td>0.133511</td>\n",
              "      <td>1.433620</td>\n",
              "      <td>1.140092</td>\n",
              "    </tr>\n",
              "    <tr>\n",
              "      <th>15079</th>\n",
              "      <td>0.0</td>\n",
              "      <td>-0.338669</td>\n",
              "      <td>0.924733</td>\n",
              "      <td>1.167582</td>\n",
              "      <td>-0.831185</td>\n",
              "      <td>-1.017603</td>\n",
              "    </tr>\n",
              "    <tr>\n",
              "      <th>15080</th>\n",
              "      <td>0.0</td>\n",
              "      <td>-0.328435</td>\n",
              "      <td>0.628173</td>\n",
              "      <td>0.591966</td>\n",
              "      <td>0.112027</td>\n",
              "      <td>-0.788504</td>\n",
              "    </tr>\n",
              "    <tr>\n",
              "      <th>15081</th>\n",
              "      <td>0.0</td>\n",
              "      <td>-0.318201</td>\n",
              "      <td>-2.238574</td>\n",
              "      <td>-0.666239</td>\n",
              "      <td>0.335948</td>\n",
              "      <td>-0.176185</td>\n",
              "    </tr>\n",
              "  </tbody>\n",
              "</table>\n",
              "<p>15082 rows × 6 columns</p>\n",
              "</div>"
            ],
            "text/plain": [
              "         0         1         2         3         4         5\n",
              "0      0.0 -0.328435  0.628173  0.591966  0.664061  2.004420\n",
              "1      0.0 -0.328435  0.628173  0.591966 -0.044261 -0.975949\n",
              "2      0.0 -0.325023 -1.151187 -0.462481 -0.552426  0.211200\n",
              "3      0.0 -0.318201  0.628173 -0.411542  1.873237 -0.001237\n",
              "4      1.0  3.062479  0.232760  0.388208 -1.608969 -0.034561\n",
              "...    ...       ...       ...       ...       ...       ...\n",
              "15077  0.0 -0.328435  0.628173  0.591966  0.664061  0.769368\n",
              "15078  0.0 -0.318201 -0.558067  0.133511  1.433620  1.140092\n",
              "15079  0.0 -0.338669  0.924733  1.167582 -0.831185 -1.017603\n",
              "15080  0.0 -0.328435  0.628173  0.591966  0.112027 -0.788504\n",
              "15081  0.0 -0.318201 -2.238574 -0.666239  0.335948 -0.176185\n",
              "\n",
              "[15082 rows x 6 columns]"
            ]
          },
          "execution_count": 64,
          "metadata": {},
          "output_type": "execute_result"
        }
      ],
      "source": [
        "pd.DataFrame(X)"
      ]
    },
    {
      "cell_type": "code",
      "execution_count": 65,
      "metadata": {
        "colab": {
          "base_uri": "https://localhost:8080/"
        },
        "id": "_RUdRK_1xPBr",
        "outputId": "aaa17908-d997-4dcd-d4c7-80c8551f0eb5"
      },
      "outputs": [
        {
          "data": {
            "text/plain": [
              "((12065, 6), (3017, 6))"
            ]
          },
          "execution_count": 65,
          "metadata": {},
          "output_type": "execute_result"
        }
      ],
      "source": [
        "# separate dataset into train and test\n",
        "X_train, X_test, y_train, y_test = train_test_split(X,y,test_size=0.2,random_state=42)\n",
        "X_train.shape, X_test.shape"
      ]
    },
    {
      "cell_type": "markdown",
      "metadata": {
        "id": "_fA26bpeyIeg"
      },
      "source": [
        "### Model Training And Model Selection"
      ]
    },
    {
      "cell_type": "code",
      "execution_count": 66,
      "metadata": {
        "colab": {
          "base_uri": "https://localhost:8080/"
        },
        "id": "s1tL2n7Jys-o",
        "outputId": "4a70bbea-8cba-4c3d-f984-001831eb4d0c"
      },
      "outputs": [
        {
          "name": "stdout",
          "output_type": "stream",
          "text": [
            "Requirement already satisfied: xgboost in /Users/sylviabhoke/Downloads/End to End CompPredictor folder/myvenv/lib/python3.9/site-packages (2.1.1)\n",
            "Requirement already satisfied: numpy in /Users/sylviabhoke/Downloads/End to End CompPredictor folder/myvenv/lib/python3.9/site-packages (from xgboost) (1.26.4)\n",
            "Requirement already satisfied: scipy in /Users/sylviabhoke/Downloads/End to End CompPredictor folder/myvenv/lib/python3.9/site-packages (from xgboost) (1.13.1)\n",
            "Note: you may need to restart the kernel to use updated packages.\n"
          ]
        }
      ],
      "source": [
        "%pip install xgboost"
      ]
    },
    {
      "cell_type": "code",
      "execution_count": 67,
      "metadata": {
        "id": "5B2KZO2Zx77A"
      },
      "outputs": [],
      "source": [
        "from sklearn.ensemble import RandomForestRegressor\n",
        "from xgboost import XGBRegressor\n",
        "from catboost import CatBoostRegressor\n",
        "from sklearn.linear_model import LinearRegression, Ridge,Lasso\n",
        "from sklearn.neighbors import KNeighborsRegressor\n",
        "from sklearn.tree import DecisionTreeRegressor\n",
        "from sklearn.metrics import r2_score, mean_absolute_error, mean_squared_error\n"
      ]
    },
    {
      "cell_type": "code",
      "execution_count": 68,
      "metadata": {
        "id": "HAQJk__ny6tS"
      },
      "outputs": [],
      "source": [
        "##Create a Function to Evaluate Model\n",
        "def evaluate_model(true, predicted):\n",
        "    mae = mean_absolute_error(true, predicted)\n",
        "    mse = mean_squared_error(true, predicted)\n",
        "    rmse = np.sqrt(mean_squared_error(true, predicted))\n",
        "    r2_square = r2_score(true, predicted)\n",
        "    return mae, rmse, r2_square"
      ]
    },
    {
      "cell_type": "code",
      "execution_count": 69,
      "metadata": {
        "colab": {
          "base_uri": "https://localhost:8080/"
        },
        "id": "He_7issWzBye",
        "outputId": "dc826bc1-1cfe-46da-d717-1eca02ef6aae"
      },
      "outputs": [
        {
          "name": "stdout",
          "output_type": "stream",
          "text": [
            "Linear Regression\n",
            "Model performance for Training set\n",
            "- Root Mean Squared Error: 16481.4872\n",
            "- Mean Absolute Error: 10918.9958\n",
            "- R2 Score: 0.7494\n",
            "----------------------------------\n",
            "Model performance for Test set\n",
            "- Root Mean Squared Error: 16677.6274\n",
            "- Mean Absolute Error: 10948.4334\n",
            "- R2 Score: 0.7504\n",
            "===================================\n",
            "\n",
            "\n",
            "Lasso\n",
            "Model performance for Training set\n",
            "- Root Mean Squared Error: 16481.5082\n",
            "- Mean Absolute Error: 10918.2094\n",
            "- R2 Score: 0.7494\n",
            "----------------------------------\n",
            "Model performance for Test set\n",
            "- Root Mean Squared Error: 16677.9773\n",
            "- Mean Absolute Error: 10947.7723\n",
            "- R2 Score: 0.7504\n",
            "===================================\n",
            "\n",
            "\n",
            "Ridge\n",
            "Model performance for Training set\n",
            "- Root Mean Squared Error: 16481.5157\n",
            "- Mean Absolute Error: 10918.5509\n",
            "- R2 Score: 0.7494\n",
            "----------------------------------\n",
            "Model performance for Test set\n",
            "- Root Mean Squared Error: 16678.0527\n",
            "- Mean Absolute Error: 10948.1137\n",
            "- R2 Score: 0.7504\n",
            "===================================\n",
            "\n",
            "\n",
            "K-Neighbors Regressor\n",
            "Model performance for Training set\n",
            "- Root Mean Squared Error: 10630.0500\n",
            "- Mean Absolute Error: 6352.4626\n",
            "- R2 Score: 0.8958\n",
            "----------------------------------\n",
            "Model performance for Test set\n",
            "- Root Mean Squared Error: 13100.6335\n",
            "- Mean Absolute Error: 7670.6545\n",
            "- R2 Score: 0.8460\n",
            "===================================\n",
            "\n",
            "\n",
            "Decision Tree\n",
            "Model performance for Training set\n",
            "- Root Mean Squared Error: 3688.0753\n",
            "- Mean Absolute Error: 1254.6231\n",
            "- R2 Score: 0.9875\n",
            "----------------------------------\n",
            "Model performance for Test set\n",
            "- Root Mean Squared Error: 12744.9942\n",
            "- Mean Absolute Error: 7054.5812\n",
            "- R2 Score: 0.8543\n",
            "===================================\n",
            "\n",
            "\n",
            "CatBoost Regressor\n",
            "Model performance for Training set\n",
            "- Root Mean Squared Error: 8223.5940\n",
            "- Mean Absolute Error: 4934.7344\n",
            "- R2 Score: 0.9376\n",
            "----------------------------------\n",
            "Model performance for Test set\n",
            "- Root Mean Squared Error: 9901.4930\n",
            "- Mean Absolute Error: 5633.1219\n",
            "- R2 Score: 0.9120\n",
            "===================================\n",
            "\n",
            "\n",
            "Random Forest Regressor\n",
            "Model performance for Training set\n",
            "- Root Mean Squared Error: 4944.7763\n",
            "- Mean Absolute Error: 2788.1538\n",
            "- R2 Score: 0.9774\n",
            "----------------------------------\n",
            "Model performance for Test set\n",
            "- Root Mean Squared Error: 10507.6968\n",
            "- Mean Absolute Error: 6015.1536\n",
            "- R2 Score: 0.9009\n",
            "===================================\n",
            "\n",
            "\n",
            "XGB Regressor\n",
            "Model performance for Training set\n",
            "- Root Mean Squared Error: 7082.0574\n",
            "- Mean Absolute Error: 4314.7650\n",
            "- R2 Score: 0.9537\n",
            "----------------------------------\n",
            "Model performance for Test set\n",
            "- Root Mean Squared Error: 10502.0952\n",
            "- Mean Absolute Error: 6037.5358\n",
            "- R2 Score: 0.9010\n",
            "===================================\n",
            "\n",
            "\n"
          ]
        }
      ],
      "source": [
        "## Beginning Model Training\n",
        "models = {\n",
        "    \"Linear Regression\": LinearRegression(),\n",
        "    \"Lasso\": Lasso(),\n",
        "    \"Ridge\": Ridge(),\n",
        "    \"K-Neighbors Regressor\": KNeighborsRegressor(),\n",
        "    \"Decision Tree\": DecisionTreeRegressor(),\n",
        "    \"CatBoost Regressor\": CatBoostRegressor(verbose=False),\n",
        "    \"Random Forest Regressor\": RandomForestRegressor(),\n",
        "    \"XGB Regressor\": XGBRegressor()\n",
        "}\n",
        "\n",
        "\n",
        "\n",
        "for i in range(len(list(models))):\n",
        "    model = list(models.values())[i]\n",
        "    model.fit(X_train, y_train) # Train model\n",
        "\n",
        "    # Make predictions\n",
        "    y_train_pred = model.predict(X_train)\n",
        "    y_test_pred = model.predict(X_test)\n",
        "\n",
        "    # Evaluate Train and Test dataset\n",
        "    model_train_mae , model_train_rmse, model_train_r2 = evaluate_model(y_train, y_train_pred)\n",
        "\n",
        "    model_test_mae , model_test_rmse, model_test_r2 = evaluate_model(y_test, y_test_pred)\n",
        "\n",
        "\n",
        "    print(list(models.keys())[i])\n",
        "\n",
        "    print('Model performance for Training set')\n",
        "    print(\"- Root Mean Squared Error: {:.4f}\".format(model_train_rmse))\n",
        "    print(\"- Mean Absolute Error: {:.4f}\".format(model_train_mae))\n",
        "    print(\"- R2 Score: {:.4f}\".format(model_train_r2))\n",
        "\n",
        "    print('----------------------------------')\n",
        "\n",
        "    print('Model performance for Test set')\n",
        "    print(\"- Root Mean Squared Error: {:.4f}\".format(model_test_rmse))\n",
        "    print(\"- Mean Absolute Error: {:.4f}\".format(model_test_mae))\n",
        "    print(\"- R2 Score: {:.4f}\".format(model_test_r2))\n",
        "\n",
        "    print('='*35)\n",
        "    print('\\n')"
      ]
    },
    {
      "cell_type": "markdown",
      "metadata": {
        "id": "_8HlXjfS3Oc4"
      },
      "source": [
        "Random Forest Regressor,catboost and XGBoost Regressor showed strong performance on both training and test sets, with R² scores above 0.90 on the test data, indicating high predictive accuracy. They also handled the complexity of the data well, balancing strong performance without overfitting on the training set."
      ]
    },
    {
      "cell_type": "markdown",
      "metadata": {
        "id": "nkFMH3A04d6Z"
      },
      "source": [
        "## Hyperparameter tuning"
      ]
    },
    {
      "cell_type": "code",
      "execution_count": 75,
      "metadata": {
        "id": "YZTkNKWMzl7K"
      },
      "outputs": [],
      "source": [
        "rf_params = {\n",
        "    \"max_depth\": [5, 10, 15, None],\n",
        "    \"max_features\": [5, 7, \"auto\"],\n",
        "    \"min_samples_split\": [2, 5, 10],\n",
        "    \"n_estimators\": [100, 300, 500]\n",
        "}\n",
        "catboost_params = {\n",
        "    \"depth\": [6, 8, 10],\n",
        "    \"iterations\": [100, 300, 500],\n",
        "    \"learning_rate\": [0.01, 0.05, 0.1],\n",
        "    \"l2_leaf_reg\": [3, 5, 7]\n",
        "}\n",
        "\n",
        "\n",
        "\n",
        "xgboost_params = {\n",
        "    \"max_depth\": [3, 5, 7],\n",
        "    \"n_estimators\": [100, 300, 500],\n",
        "    \"learning_rate\": [0.01, 0.05, 0.1],\n",
        "    \"colsample_bytree\": [0.3, 0.5, 0.7]\n",
        "}\n"
      ]
    },
    {
      "cell_type": "code",
      "execution_count": 77,
      "metadata": {
        "id": "KiMFcvne4Jnb"
      },
      "outputs": [],
      "source": [
        "randomcv_models = [\n",
        "    (\"Random Forest\", RandomForestRegressor(), rf_params),\n",
        "    (\"CatBoost\", CatBoostRegressor(verbose=False), catboost_params),\n",
        "    (\"XGBoost\", XGBRegressor(), xgboost_params)\n",
        "]\n"
      ]
    },
    {
      "cell_type": "code",
      "execution_count": 78,
      "metadata": {
        "colab": {
          "base_uri": "https://localhost:8080/"
        },
        "id": "JaHhT-xy4WMw",
        "outputId": "84a8485d-aaee-4445-8fa9-3ebb228c20be"
      },
      "outputs": [
        {
          "name": "stdout",
          "output_type": "stream",
          "text": [
            "Fitting 3 folds for each of 100 candidates, totalling 300 fits\n",
            "Fitting 3 folds for each of 81 candidates, totalling 243 fits\n",
            "Fitting 3 folds for each of 81 candidates, totalling 243 fits\n",
            "---------------- Best Params for Random Forest -------------------\n",
            "{'n_estimators': 300, 'min_samples_split': 10, 'max_features': 5, 'max_depth': 15}\n",
            "---------------- Best Params for CatBoost -------------------\n",
            "{'learning_rate': 0.1, 'l2_leaf_reg': 3, 'iterations': 500, 'depth': 8}\n",
            "---------------- Best Params for XGBoost -------------------\n",
            "{'n_estimators': 300, 'max_depth': 7, 'learning_rate': 0.1, 'colsample_bytree': 0.5}\n"
          ]
        }
      ],
      "source": [
        "from sklearn.model_selection import RandomizedSearchCV\n",
        "\n",
        "model_param = {}\n",
        "for name, model, params in randomcv_models:\n",
        "    random = RandomizedSearchCV(estimator=model,\n",
        "                                param_distributions=params,\n",
        "                                n_iter=100,\n",
        "                                cv=3,\n",
        "                                verbose=1,\n",
        "                                n_jobs=-1)\n",
        "    random.fit(X_train, y_train)\n",
        "    model_param[name] = random.best_params_\n",
        "\n",
        "# Print the best parameters for each model\n",
        "for model_name in model_param:\n",
        "    print(f\"---------------- Best Params for {model_name} -------------------\")\n",
        "    print(model_param[model_name])\n"
      ]
    },
    {
      "cell_type": "code",
      "execution_count": 79,
      "metadata": {
        "colab": {
          "base_uri": "https://localhost:8080/"
        },
        "id": "BNua79Ci423C",
        "outputId": "041a551b-d887-4ced-b0fb-b91cb3c4ac5f"
      },
      "outputs": [
        {
          "name": "stdout",
          "output_type": "stream",
          "text": [
            "Random Forest Regressor\n",
            "Model performance for Training set\n",
            "- Root Mean Squared Error: 7242.8794\n",
            "- Mean Absolute Error: 4280.4425\n",
            "- R2 Score: 0.9516\n",
            "----------------------------------\n",
            "Model performance for Test set\n",
            "- Root Mean Squared Error: 10120.8354\n",
            "- Mean Absolute Error: 5768.1131\n",
            "- R2 Score: 0.9081\n",
            "===================================\n",
            "\n",
            "\n",
            "CatBoost Regressor\n",
            "Model performance for Training set\n",
            "- Root Mean Squared Error: 7850.7615\n",
            "- Mean Absolute Error: 4751.0048\n",
            "- R2 Score: 0.9431\n",
            "----------------------------------\n",
            "Model performance for Test set\n",
            "- Root Mean Squared Error: 9912.0905\n",
            "- Mean Absolute Error: 5649.0420\n",
            "- R2 Score: 0.9118\n",
            "===================================\n",
            "\n",
            "\n",
            "XGBoost Regressor\n",
            "Model performance for Training set\n",
            "- Root Mean Squared Error: 7038.8628\n",
            "- Mean Absolute Error: 4261.9827\n",
            "- R2 Score: 0.9543\n",
            "----------------------------------\n",
            "Model performance for Test set\n",
            "- Root Mean Squared Error: 10146.1474\n",
            "- Mean Absolute Error: 5853.9352\n",
            "- R2 Score: 0.9076\n",
            "===================================\n",
            "\n",
            "\n"
          ]
        }
      ],
      "source": [
        "## Retraining the models with best parameters\n",
        "models = {\n",
        "    \"Random Forest Regressor\": RandomForestRegressor(n_estimators=300,\n",
        "                                                     min_samples_split=10,\n",
        "                                                     max_features=5,\n",
        "                                                     max_depth=15,\n",
        "                                                     n_jobs=-1),\n",
        "    \"CatBoost Regressor\": CatBoostRegressor(learning_rate=0.1,\n",
        "                                            l2_leaf_reg=3,\n",
        "                                            iterations=500,\n",
        "                                            depth=8,\n",
        "                                            verbose=0),  \n",
        "    \"XGBoost Regressor\": XGBRegressor(n_estimators=300,\n",
        "                                      max_depth=7,\n",
        "                                      learning_rate=0.1,\n",
        "                                      colsample_bytree=0.5,\n",
        "                                      n_jobs=-1)\n",
        "}\n",
        "\n",
        "for i in range(len(list(models))):\n",
        "    model = list(models.values())[i]\n",
        "    model.fit(X_train, y_train)  # Train model\n",
        "\n",
        "    # Make predictions\n",
        "    y_train_pred = model.predict(X_train)\n",
        "    y_test_pred = model.predict(X_test)\n",
        "\n",
        "    model_train_mae, model_train_rmse, model_train_r2 = evaluate_model(y_train, y_train_pred)\n",
        "    model_test_mae, model_test_rmse, model_test_r2 = evaluate_model(y_test, y_test_pred)\n",
        "\n",
        "    print(list(models.keys())[i])\n",
        "\n",
        "    print('Model performance for Training set')\n",
        "    print(\"- Root Mean Squared Error: {:.4f}\".format(model_train_rmse))\n",
        "    print(\"- Mean Absolute Error: {:.4f}\".format(model_train_mae))\n",
        "    print(\"- R2 Score: {:.4f}\".format(model_train_r2))\n",
        "\n",
        "    print('----------------------------------')\n",
        "\n",
        "    print('Model performance for Test set')\n",
        "    print(\"- Root Mean Squared Error: {:.4f}\".format(model_test_rmse))\n",
        "    print(\"- Mean Absolute Error: {:.4f}\".format(model_test_mae))\n",
        "    print(\"- R2 Score: {:.4f}\".format(model_test_r2))\n",
        "\n",
        "    print('='*35)\n",
        "    print('\\n')\n"
      ]
    },
    {
      "cell_type": "markdown",
      "metadata": {},
      "source": [
        "### CatBoost Regressor"
      ]
    },
    {
      "cell_type": "code",
      "execution_count": 80,
      "metadata": {
        "id": "cHIMFjLk9-yE"
      },
      "outputs": [
        {
          "name": "stdout",
          "output_type": "stream",
          "text": [
            "Accuracy of the CatBoost Regressor model is 91.18\n"
          ]
        }
      ],
      "source": [
        "# Initialize CatBoost Regressor\n",
        "catboost_model = CatBoostRegressor(learning_rate=0.1,\n",
        "                                   l2_leaf_reg=3,\n",
        "                                   iterations=500,\n",
        "                                   depth=8,\n",
        "                                   verbose=0)\n",
        "\n",
        "# Train the model\n",
        "catboost_model.fit(X_train, y_train)\n",
        "\n",
        "# Make predictions\n",
        "y_pred = catboost_model.predict(X_test)\n",
        "\n",
        "# Calculate R^2 score and print accuracy\n",
        "score = r2_score(y_test, y_pred) * 100\n",
        "print(\"Accuracy of the CatBoost Regressor model is %.2f\" % score)\n"
      ]
    },
    {
      "cell_type": "markdown",
      "metadata": {},
      "source": [
        "### Plot y_pred and y_test"
      ]
    },
    {
      "cell_type": "code",
      "execution_count": 83,
      "metadata": {},
      "outputs": [
        {
          "data": {
            "text/plain": [
              "<Axes: xlabel='Total_compensation'>"
            ]
          },
          "execution_count": 83,
          "metadata": {},
          "output_type": "execute_result"
        },
        {
          "data": {
            "image/png": "[encoded data removed]",
            "text/plain": [
              "<Figure size 640x480 with 1 Axes>"
            ]
          },
          "metadata": {},
          "output_type": "display_data"
        }
      ],
      "source": [
        "sns.regplot(x=y_test,y=y_pred,ci=None,color ='green')"
      ]
    },
    {
      "cell_type": "markdown",
      "metadata": {},
      "source": [
        "### \n",
        "Difference between Actual and Predicted Values"
      ]
    },
    {
      "cell_type": "code",
      "execution_count": 84,
      "metadata": {},
      "outputs": [
        {
          "data": {
            "text/html": [
              "<div>\n",
              "<style scoped>\n",
              "    .dataframe tbody tr th:only-of-type {\n",
              "        vertical-align: middle;\n",
              "    }\n",
              "\n",
              "    .dataframe tbody tr th {\n",
              "        vertical-align: top;\n",
              "    }\n",
              "\n",
              "    .dataframe thead th {\n",
              "        text-align: right;\n",
              "    }\n",
              "</style>\n",
              "<table border=\"1\" class=\"dataframe\">\n",
              "  <thead>\n",
              "    <tr style=\"text-align: right;\">\n",
              "      <th></th>\n",
              "      <th>Actual Value</th>\n",
              "      <th>Predicted Value</th>\n",
              "      <th>Difference</th>\n",
              "    </tr>\n",
              "  </thead>\n",
              "  <tbody>\n",
              "    <tr>\n",
              "      <th>5405</th>\n",
              "      <td>28863.22</td>\n",
              "      <td>20708.404524</td>\n",
              "      <td>8154.815476</td>\n",
              "    </tr>\n",
              "    <tr>\n",
              "      <th>3613</th>\n",
              "      <td>67901.79</td>\n",
              "      <td>68446.915261</td>\n",
              "      <td>-545.125261</td>\n",
              "    </tr>\n",
              "    <tr>\n",
              "      <th>5852</th>\n",
              "      <td>68595.79</td>\n",
              "      <td>69304.042410</td>\n",
              "      <td>-708.252410</td>\n",
              "    </tr>\n",
              "    <tr>\n",
              "      <th>8382</th>\n",
              "      <td>67482.62</td>\n",
              "      <td>68040.327799</td>\n",
              "      <td>-557.707799</td>\n",
              "    </tr>\n",
              "    <tr>\n",
              "      <th>6141</th>\n",
              "      <td>74570.80</td>\n",
              "      <td>72486.412182</td>\n",
              "      <td>2084.387818</td>\n",
              "    </tr>\n",
              "    <tr>\n",
              "      <th>...</th>\n",
              "      <td>...</td>\n",
              "      <td>...</td>\n",
              "      <td>...</td>\n",
              "    </tr>\n",
              "    <tr>\n",
              "      <th>12929</th>\n",
              "      <td>4999.57</td>\n",
              "      <td>4733.201187</td>\n",
              "      <td>266.368813</td>\n",
              "    </tr>\n",
              "    <tr>\n",
              "      <th>303</th>\n",
              "      <td>110775.20</td>\n",
              "      <td>110264.247232</td>\n",
              "      <td>510.952768</td>\n",
              "    </tr>\n",
              "    <tr>\n",
              "      <th>6045</th>\n",
              "      <td>118127.60</td>\n",
              "      <td>118220.796996</td>\n",
              "      <td>-93.196996</td>\n",
              "    </tr>\n",
              "    <tr>\n",
              "      <th>6745</th>\n",
              "      <td>52035.48</td>\n",
              "      <td>46101.673985</td>\n",
              "      <td>5933.806015</td>\n",
              "    </tr>\n",
              "    <tr>\n",
              "      <th>1703</th>\n",
              "      <td>77023.98</td>\n",
              "      <td>71342.816321</td>\n",
              "      <td>5681.163679</td>\n",
              "    </tr>\n",
              "  </tbody>\n",
              "</table>\n",
              "<p>3017 rows × 3 columns</p>\n",
              "</div>"
            ],
            "text/plain": [
              "       Actual Value  Predicted Value   Difference\n",
              "5405       28863.22     20708.404524  8154.815476\n",
              "3613       67901.79     68446.915261  -545.125261\n",
              "5852       68595.79     69304.042410  -708.252410\n",
              "8382       67482.62     68040.327799  -557.707799\n",
              "6141       74570.80     72486.412182  2084.387818\n",
              "...             ...              ...          ...\n",
              "12929       4999.57      4733.201187   266.368813\n",
              "303       110775.20    110264.247232   510.952768\n",
              "6045      118127.60    118220.796996   -93.196996\n",
              "6745       52035.48     46101.673985  5933.806015\n",
              "1703       77023.98     71342.816321  5681.163679\n",
              "\n",
              "[3017 rows x 3 columns]"
            ]
          },
          "execution_count": 84,
          "metadata": {},
          "output_type": "execute_result"
        }
      ],
      "source": [
        "pred_df=pd.DataFrame({'Actual Value':y_test,'Predicted Value':y_pred,'Difference':y_test-y_pred})\n",
        "pred_df"
      ]
    },
    {
      "cell_type": "code",
      "execution_count": null,
      "metadata": {},
      "outputs": [],
      "source": []
    }
  ],
  "metadata": {
    "accelerator": "GPU",
    "colab": {
      "gpuType": "T4",
      "provenance": []
    },
    "kernelspec": {
      "display_name": "Python 3",
      "name": "python3"
    },
    "language_info": {
      "codemirror_mode": {
        "name": "ipython",
        "version": 3
      },
      "file_extension": ".py",
      "mimetype": "text/x-python",
      "name": "python",
      "nbconvert_exporter": "python",
      "pygments_lexer": "ipython3",
      "version": "3.9.13"
    }
  },
  "nbformat": 4,
  "nbformat_minor": 0
}
